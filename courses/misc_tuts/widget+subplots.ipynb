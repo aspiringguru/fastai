{
 "cells": [
  {
   "cell_type": "code",
   "execution_count": 1,
   "metadata": {},
   "outputs": [
    {
     "name": "stdout",
     "output_type": "stream",
     "text": [
      "7.1.2\n"
     ]
    }
   ],
   "source": [
    "import ipywidgets as widgets\n",
    "print (widgets.__version__)\n",
    "import matplotlib.pyplot as plt # For ploting\n",
    "import numpy as np # to work with numerical data efficiently\n"
   ]
  },
  {
   "cell_type": "code",
   "execution_count": 2,
   "metadata": {},
   "outputs": [
    {
     "data": {
      "application/vnd.jupyter.widget-view+json": {
       "model_id": "a0d20a40fb7a4b4787a1cb66031382bd",
       "version_major": 2,
       "version_minor": 0
      },
      "text/html": [
       "<p>Failed to display Jupyter Widget of type <code>Dropdown</code>.</p>\n",
       "<p>\n",
       "  If you're reading this message in the Jupyter Notebook or JupyterLab Notebook, it may mean\n",
       "  that the widgets JavaScript is still loading. If this message persists, it\n",
       "  likely means that the widgets JavaScript library is either not installed or\n",
       "  not enabled. See the <a href=\"https://ipywidgets.readthedocs.io/en/stable/user_install.html\">Jupyter\n",
       "  Widgets Documentation</a> for setup instructions.\n",
       "</p>\n",
       "<p>\n",
       "  If you're reading this message in another frontend (for example, a static\n",
       "  rendering on GitHub or <a href=\"https://nbviewer.jupyter.org/\">NBViewer</a>),\n",
       "  it may mean that your frontend doesn't currently support widgets.\n",
       "</p>\n"
      ],
      "text/plain": [
       "Dropdown(description='frequency:', index=2, options=(50, 75, 100, 125, 150, 175, 200), value=100)"
      ]
     },
     "metadata": {},
     "output_type": "display_data"
    },
    {
     "name": "stdout",
     "output_type": "stream",
     "text": [
      "changed to 150\n",
      "input_freq: 150\n",
      "fs: 150\n"
     ]
    },
    {
     "data": {
      "image/png": "[encoded data removed]",
      "text/plain": [
       "<Figure size 432x288 with 1 Axes>"
      ]
     },
     "metadata": {},
     "output_type": "display_data"
    },
    {
     "name": "stdout",
     "output_type": "stream",
     "text": [
      "changed to 200\n",
      "input_freq: 200\n",
      "fs: 200\n"
     ]
    },
    {
     "data": {
      "image/png": "[encoded data removed]",
      "text/plain": [
       "<Figure size 432x288 with 1 Axes>"
      ]
     },
     "metadata": {},
     "output_type": "display_data"
    }
   ],
   "source": [
    "def plot_content(input_freq):\n",
    "    #this could be plot a different graph type.\n",
    "    print(\"input_freq:\", input_freq)\n",
    "    \n",
    "    #fs = 100 # sample rate \n",
    "    fs = input_freq\n",
    "    print(\"fs:\", fs)\n",
    "    f = 2 # the frequency of the signal\n",
    "\n",
    "    x = np.arange(fs) # the points on the x axis for plotting\n",
    "    # compute the value (amplitude) of the sin wave at the for each sample\n",
    "    y = [ np.sin(2*np.pi*f * (i/fs)) for i in x]\n",
    "\n",
    "    #this instruction can only be used with IPython Notbook. \n",
    "    % matplotlib inline\n",
    "    # showing the exact location of the smaples\n",
    "    #plt.stem(x,y, 'r', )\n",
    "    #plt.cla()\n",
    "    #plt.clf()\n",
    "    plt.close('all')\n",
    "\n",
    "    plt.figure(1)\n",
    "    plt.subplot(211)\n",
    "    plt.plot(x,y)\n",
    "\n",
    "w = widgets.Dropdown(\n",
    "    options=[50, 75, 100, 125, 150, 175, 200],\n",
    "    description='frequency:',\n",
    "    value=100,\n",
    "    disabled=False,\n",
    ")\n",
    "def on_change(change):\n",
    "    if change['type'] == 'change' and change['name'] == 'value':\n",
    "        print (\"changed to %s\" % change['new'])\n",
    "        plot_content(change['new'])\n",
    "\n",
    "w.observe(on_change)\n",
    "\n",
    "display(w)"
   ]
  },
  {
   "cell_type": "code",
   "execution_count": null,
   "metadata": {},
   "outputs": [],
   "source": []
  }
 ],
 "metadata": {
  "kernelspec": {
   "display_name": "Python 3",
   "language": "python",
   "name": "python3"
  },
  "language_info": {
   "codemirror_mode": {
    "name": "ipython",
    "version": 3
   },
   "file_extension": ".py",
   "mimetype": "text/x-python",
   "name": "python",
   "nbconvert_exporter": "python",
   "pygments_lexer": "ipython3",
   "version": "3.6.4"
  }
 },
 "nbformat": 4,
 "nbformat_minor": 2
}
