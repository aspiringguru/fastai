{
 "cells": [
  {
   "cell_type": "code",
   "execution_count": 1,
   "metadata": {},
   "outputs": [],
   "source": [
    "#bokeh_demo2\n",
    "#https://github.com/bokeh/bokeh/blob/0.12.15/examples/howto/notebook_comms/Basic%20Usage.ipynb\n"
   ]
  },
  {
   "cell_type": "code",
   "execution_count": 2,
   "metadata": {},
   "outputs": [
    {
     "data": {
      "text/html": [
       "\n",
       "    <div class=\"bk-root\">\n",
       "        <a href=\"https://bokeh.pydata.org\" target=\"_blank\" class=\"bk-logo bk-logo-small bk-logo-notebook\"></a>\n",
       "        <span id=\"50ca2111-b065-4a8c-8fb6-fbf5b387de81\">Loading BokehJS ...</span>\n",
       "    </div>"
      ]
     },
     "metadata": {},
     "output_type": "display_data"
    },
    {
     "data": {
      "application/javascript": [
       "\n",
       "(function(root) {\n",
       "  function now() {\n",
       "    return new Date();\n",
       "  }\n",
       "\n",
       "  var force = true;\n",
       "\n",
       "  if (typeof (root._bokeh_onload_callbacks) === \"undefined\" || force === true) {\n",
       "    root._bokeh_onload_callbacks = [];\n",
       "    root._bokeh_is_loading = undefined;\n",
       "  }\n",
       "\n",
       "  var JS_MIME_TYPE = 'application/javascript';\n",
       "  var HTML_MIME_TYPE = 'text/html';\n",
       "  var EXEC_MIME_TYPE = 'application/vnd.bokehjs_exec.v0+json';\n",
       "  var CLASS_NAME = 'output_bokeh rendered_html';\n",
       "\n",
       "  /**\n",
       "   * Render data to the DOM node\n",
       "   */\n",
       "  function render(props, node) {\n",
       "    var script = document.createElement(\"script\");\n",
       "    node.appendChild(script);\n",
       "  }\n",
       "\n",
       "  /**\n",
       "   * Handle when an output is cleared or removed\n",
       "   */\n",
       "  function handleClearOutput(event, handle) {\n",
       "    var cell = handle.cell;\n",
       "\n",
       "    var id = cell.output_area._bokeh_element_id;\n",
       "    var server_id = cell.output_area._bokeh_server_id;\n",
       "    // Clean up Bokeh references\n",
       "    if (id !== undefined) {\n",
       "      Bokeh.index[id].model.document.clear();\n",
       "      delete Bokeh.index[id];\n",
       "    }\n",
       "\n",
       "    if (server_id !== undefined) {\n",
       "      // Clean up Bokeh references\n",
       "      var cmd = \"from bokeh.io.state import curstate; print(curstate().uuid_to_server['\" + server_id + \"'].get_sessions()[0].document.roots[0]._id)\";\n",
       "      cell.notebook.kernel.execute(cmd, {\n",
       "        iopub: {\n",
       "          output: function(msg) {\n",
       "            var element_id = msg.content.text.trim();\n",
       "            Bokeh.index[element_id].model.document.clear();\n",
       "            delete Bokeh.index[element_id];\n",
       "          }\n",
       "        }\n",
       "      });\n",
       "      // Destroy server and session\n",
       "      var cmd = \"import bokeh.io.notebook as ion; ion.destroy_server('\" + server_id + \"')\";\n",
       "      cell.notebook.kernel.execute(cmd);\n",
       "    }\n",
       "  }\n",
       "\n",
       "  /**\n",
       "   * Handle when a new output is added\n",
       "   */\n",
       "  function handleAddOutput(event, handle) {\n",
       "    var output_area = handle.output_area;\n",
       "    var output = handle.output;\n",
       "\n",
       "    // limit handleAddOutput to display_data with EXEC_MIME_TYPE content only\n",
       "    if ((output.output_type != \"display_data\") || (!output.data.hasOwnProperty(EXEC_MIME_TYPE))) {\n",
       "      return\n",
       "    }\n",
       "\n",
       "    var toinsert = output_area.element.find(\".\" + CLASS_NAME.split(' ')[0]);\n",
       "\n",
       "    if (output.metadata[EXEC_MIME_TYPE][\"id\"] !== undefined) {\n",
       "      toinsert[0].firstChild.textContent = output.data[JS_MIME_TYPE];\n",
       "      // store reference to embed id on output_area\n",
       "      output_area._bokeh_element_id = output.metadata[EXEC_MIME_TYPE][\"id\"];\n",
       "    }\n",
       "    if (output.metadata[EXEC_MIME_TYPE][\"server_id\"] !== undefined) {\n",
       "      var bk_div = document.createElement(\"div\");\n",
       "      bk_div.innerHTML = output.data[HTML_MIME_TYPE];\n",
       "      var script_attrs = bk_div.children[0].attributes;\n",
       "      for (var i = 0; i < script_attrs.length; i++) {\n",
       "        toinsert[0].firstChild.setAttribute(script_attrs[i].name, script_attrs[i].value);\n",
       "      }\n",
       "      // store reference to server id on output_area\n",
       "      output_area._bokeh_server_id = output.metadata[EXEC_MIME_TYPE][\"server_id\"];\n",
       "    }\n",
       "  }\n",
       "\n",
       "  function register_renderer(events, OutputArea) {\n",
       "\n",
       "    function append_mime(data, metadata, element) {\n",
       "      // create a DOM node to render to\n",
       "      var toinsert = this.create_output_subarea(\n",
       "        metadata,\n",
       "        CLASS_NAME,\n",
       "        EXEC_MIME_TYPE\n",
       "      );\n",
       "      this.keyboard_manager.register_events(toinsert);\n",
       "      // Render to node\n",
       "      var props = {data: data, metadata: metadata[EXEC_MIME_TYPE]};\n",
       "      render(props, toinsert[0]);\n",
       "      element.append(toinsert);\n",
       "      return toinsert\n",
       "    }\n",
       "\n",
       "    /* Handle when an output is cleared or removed */\n",
       "    events.on('clear_output.CodeCell', handleClearOutput);\n",
       "    events.on('delete.Cell', handleClearOutput);\n",
       "\n",
       "    /* Handle when a new output is added */\n",
       "    events.on('output_added.OutputArea', handleAddOutput);\n",
       "\n",
       "    /**\n",
       "     * Register the mime type and append_mime function with output_area\n",
       "     */\n",
       "    OutputArea.prototype.register_mime_type(EXEC_MIME_TYPE, append_mime, {\n",
       "      /* Is output safe? */\n",
       "      safe: true,\n",
       "      /* Index of renderer in `output_area.display_order` */\n",
       "      index: 0\n",
       "    });\n",
       "  }\n",
       "\n",
       "  // register the mime type if in Jupyter Notebook environment and previously unregistered\n",
       "  if (root.Jupyter !== undefined) {\n",
       "    var events = require('base/js/events');\n",
       "    var OutputArea = require('notebook/js/outputarea').OutputArea;\n",
       "\n",
       "    if (OutputArea.prototype.mime_types().indexOf(EXEC_MIME_TYPE) == -1) {\n",
       "      register_renderer(events, OutputArea);\n",
       "    }\n",
       "  }\n",
       "\n",
       "  \n",
       "  if (typeof (root._bokeh_timeout) === \"undefined\" || force === true) {\n",
       "    root._bokeh_timeout = Date.now() + 5000;\n",
       "    root._bokeh_failed_load = false;\n",
       "  }\n",
       "\n",
       "  var NB_LOAD_WARNING = {'data': {'text/html':\n",
       "     \"<div style='background-color: #fdd'>\\n\"+\n",
       "     \"<p>\\n\"+\n",
       "     \"BokehJS does not appear to have successfully loaded. If loading BokehJS from CDN, this \\n\"+\n",
       "     \"may be due to a slow or bad network connection. Possible fixes:\\n\"+\n",
       "     \"</p>\\n\"+\n",
       "     \"<ul>\\n\"+\n",
       "     \"<li>re-rerun `output_notebook()` to attempt to load from CDN again, or</li>\\n\"+\n",
       "     \"<li>use INLINE resources instead, as so:</li>\\n\"+\n",
       "     \"</ul>\\n\"+\n",
       "     \"<code>\\n\"+\n",
       "     \"from bokeh.resources import INLINE\\n\"+\n",
       "     \"output_notebook(resources=INLINE)\\n\"+\n",
       "     \"</code>\\n\"+\n",
       "     \"</div>\"}};\n",
       "\n",
       "  function display_loaded() {\n",
       "    var el = document.getElementById(\"50ca2111-b065-4a8c-8fb6-fbf5b387de81\");\n",
       "    if (el != null) {\n",
       "      el.textContent = \"BokehJS is loading...\";\n",
       "    }\n",
       "    if (root.Bokeh !== undefined) {\n",
       "      if (el != null) {\n",
       "        el.textContent = \"BokehJS \" + root.Bokeh.version + \" successfully loaded.\";\n",
       "      }\n",
       "    } else if (Date.now() < root._bokeh_timeout) {\n",
       "      setTimeout(display_loaded, 100)\n",
       "    }\n",
       "  }\n",
       "\n",
       "\n",
       "  function run_callbacks() {\n",
       "    try {\n",
       "      root._bokeh_onload_callbacks.forEach(function(callback) { callback() });\n",
       "    }\n",
       "    finally {\n",
       "      delete root._bokeh_onload_callbacks\n",
       "    }\n",
       "    console.info(\"Bokeh: all callbacks have finished\");\n",
       "  }\n",
       "\n",
       "  function load_libs(js_urls, callback) {\n",
       "    root._bokeh_onload_callbacks.push(callback);\n",
       "    if (root._bokeh_is_loading > 0) {\n",
       "      console.log(\"Bokeh: BokehJS is being loaded, scheduling callback at\", now());\n",
       "      return null;\n",
       "    }\n",
       "    if (js_urls == null || js_urls.length === 0) {\n",
       "      run_callbacks();\n",
       "      return null;\n",
       "    }\n",
       "    console.log(\"Bokeh: BokehJS not loaded, scheduling load and callback at\", now());\n",
       "    root._bokeh_is_loading = js_urls.length;\n",
       "    for (var i = 0; i < js_urls.length; i++) {\n",
       "      var url = js_urls[i];\n",
       "      var s = document.createElement('script');\n",
       "      s.src = url;\n",
       "      s.async = false;\n",
       "      s.onreadystatechange = s.onload = function() {\n",
       "        root._bokeh_is_loading--;\n",
       "        if (root._bokeh_is_loading === 0) {\n",
       "          console.log(\"Bokeh: all BokehJS libraries loaded\");\n",
       "          run_callbacks()\n",
       "        }\n",
       "      };\n",
       "      s.onerror = function() {\n",
       "        console.warn(\"failed to load library \" + url);\n",
       "      };\n",
       "      console.log(\"Bokeh: injecting script tag for BokehJS library: \", url);\n",
       "      document.getElementsByTagName(\"head\")[0].appendChild(s);\n",
       "    }\n",
       "  };var element = document.getElementById(\"50ca2111-b065-4a8c-8fb6-fbf5b387de81\");\n",
       "  if (element == null) {\n",
       "    console.log(\"Bokeh: ERROR: autoload.js configured with elementid '50ca2111-b065-4a8c-8fb6-fbf5b387de81' but no matching script tag was found. \")\n",
       "    return false;\n",
       "  }\n",
       "\n",
       "  var js_urls = [\"https://cdn.pydata.org/bokeh/release/bokeh-0.12.14.min.js\", \"https://cdn.pydata.org/bokeh/release/bokeh-widgets-0.12.14.min.js\", \"https://cdn.pydata.org/bokeh/release/bokeh-tables-0.12.14.min.js\", \"https://cdn.pydata.org/bokeh/release/bokeh-gl-0.12.14.min.js\"];\n",
       "\n",
       "  var inline_js = [\n",
       "    function(Bokeh) {\n",
       "      Bokeh.set_log_level(\"info\");\n",
       "    },\n",
       "    \n",
       "    function(Bokeh) {\n",
       "      \n",
       "    },\n",
       "    function(Bokeh) {\n",
       "      console.log(\"Bokeh: injecting CSS: https://cdn.pydata.org/bokeh/release/bokeh-0.12.14.min.css\");\n",
       "      Bokeh.embed.inject_css(\"https://cdn.pydata.org/bokeh/release/bokeh-0.12.14.min.css\");\n",
       "      console.log(\"Bokeh: injecting CSS: https://cdn.pydata.org/bokeh/release/bokeh-widgets-0.12.14.min.css\");\n",
       "      Bokeh.embed.inject_css(\"https://cdn.pydata.org/bokeh/release/bokeh-widgets-0.12.14.min.css\");\n",
       "      console.log(\"Bokeh: injecting CSS: https://cdn.pydata.org/bokeh/release/bokeh-tables-0.12.14.min.css\");\n",
       "      Bokeh.embed.inject_css(\"https://cdn.pydata.org/bokeh/release/bokeh-tables-0.12.14.min.css\");\n",
       "    }\n",
       "  ];\n",
       "\n",
       "  function run_inline_js() {\n",
       "    \n",
       "    if ((root.Bokeh !== undefined) || (force === true)) {\n",
       "      for (var i = 0; i < inline_js.length; i++) {\n",
       "        inline_js[i].call(root, root.Bokeh);\n",
       "      }if (force === true) {\n",
       "        display_loaded();\n",
       "      }} else if (Date.now() < root._bokeh_timeout) {\n",
       "      setTimeout(run_inline_js, 100);\n",
       "    } else if (!root._bokeh_failed_load) {\n",
       "      console.log(\"Bokeh: BokehJS failed to load within specified timeout.\");\n",
       "      root._bokeh_failed_load = true;\n",
       "    } else if (force !== true) {\n",
       "      var cell = $(document.getElementById(\"50ca2111-b065-4a8c-8fb6-fbf5b387de81\")).parents('.cell').data().cell;\n",
       "      cell.output_area.append_execute_result(NB_LOAD_WARNING)\n",
       "    }\n",
       "\n",
       "  }\n",
       "\n",
       "  if (root._bokeh_is_loading === 0) {\n",
       "    console.log(\"Bokeh: BokehJS loaded, going straight to plotting\");\n",
       "    run_inline_js();\n",
       "  } else {\n",
       "    load_libs(js_urls, function() {\n",
       "      console.log(\"Bokeh: BokehJS plotting callback run at\", now());\n",
       "      run_inline_js();\n",
       "    });\n",
       "  }\n",
       "}(window));"
      ],
      "application/vnd.bokehjs_load.v0+json": "\n(function(root) {\n  function now() {\n    return new Date();\n  }\n\n  var force = true;\n\n  if (typeof (root._bokeh_onload_callbacks) === \"undefined\" || force === true) {\n    root._bokeh_onload_callbacks = [];\n    root._bokeh_is_loading = undefined;\n  }\n\n  \n\n  \n  if (typeof (root._bokeh_timeout) === \"undefined\" || force === true) {\n    root._bokeh_timeout = Date.now() + 5000;\n    root._bokeh_failed_load = false;\n  }\n\n  var NB_LOAD_WARNING = {'data': {'text/html':\n     \"<div style='background-color: #fdd'>\\n\"+\n     \"<p>\\n\"+\n     \"BokehJS does not appear to have successfully loaded. If loading BokehJS from CDN, this \\n\"+\n     \"may be due to a slow or bad network connection. Possible fixes:\\n\"+\n     \"</p>\\n\"+\n     \"<ul>\\n\"+\n     \"<li>re-rerun `output_notebook()` to attempt to load from CDN again, or</li>\\n\"+\n     \"<li>use INLINE resources instead, as so:</li>\\n\"+\n     \"</ul>\\n\"+\n     \"<code>\\n\"+\n     \"from bokeh.resources import INLINE\\n\"+\n     \"output_notebook(resources=INLINE)\\n\"+\n     \"</code>\\n\"+\n     \"</div>\"}};\n\n  function display_loaded() {\n    var el = document.getElementById(\"50ca2111-b065-4a8c-8fb6-fbf5b387de81\");\n    if (el != null) {\n      el.textContent = \"BokehJS is loading...\";\n    }\n    if (root.Bokeh !== undefined) {\n      if (el != null) {\n        el.textContent = \"BokehJS \" + root.Bokeh.version + \" successfully loaded.\";\n      }\n    } else if (Date.now() < root._bokeh_timeout) {\n      setTimeout(display_loaded, 100)\n    }\n  }\n\n\n  function run_callbacks() {\n    try {\n      root._bokeh_onload_callbacks.forEach(function(callback) { callback() });\n    }\n    finally {\n      delete root._bokeh_onload_callbacks\n    }\n    console.info(\"Bokeh: all callbacks have finished\");\n  }\n\n  function load_libs(js_urls, callback) {\n    root._bokeh_onload_callbacks.push(callback);\n    if (root._bokeh_is_loading > 0) {\n      console.log(\"Bokeh: BokehJS is being loaded, scheduling callback at\", now());\n      return null;\n    }\n    if (js_urls == null || js_urls.length === 0) {\n      run_callbacks();\n      return null;\n    }\n    console.log(\"Bokeh: BokehJS not loaded, scheduling load and callback at\", now());\n    root._bokeh_is_loading = js_urls.length;\n    for (var i = 0; i < js_urls.length; i++) {\n      var url = js_urls[i];\n      var s = document.createElement('script');\n      s.src = url;\n      s.async = false;\n      s.onreadystatechange = s.onload = function() {\n        root._bokeh_is_loading--;\n        if (root._bokeh_is_loading === 0) {\n          console.log(\"Bokeh: all BokehJS libraries loaded\");\n          run_callbacks()\n        }\n      };\n      s.onerror = function() {\n        console.warn(\"failed to load library \" + url);\n      };\n      console.log(\"Bokeh: injecting script tag for BokehJS library: \", url);\n      document.getElementsByTagName(\"head\")[0].appendChild(s);\n    }\n  };var element = document.getElementById(\"50ca2111-b065-4a8c-8fb6-fbf5b387de81\");\n  if (element == null) {\n    console.log(\"Bokeh: ERROR: autoload.js configured with elementid '50ca2111-b065-4a8c-8fb6-fbf5b387de81' but no matching script tag was found. \")\n    return false;\n  }\n\n  var js_urls = [\"https://cdn.pydata.org/bokeh/release/bokeh-0.12.14.min.js\", \"https://cdn.pydata.org/bokeh/release/bokeh-widgets-0.12.14.min.js\", \"https://cdn.pydata.org/bokeh/release/bokeh-tables-0.12.14.min.js\", \"https://cdn.pydata.org/bokeh/release/bokeh-gl-0.12.14.min.js\"];\n\n  var inline_js = [\n    function(Bokeh) {\n      Bokeh.set_log_level(\"info\");\n    },\n    \n    function(Bokeh) {\n      \n    },\n    function(Bokeh) {\n      console.log(\"Bokeh: injecting CSS: https://cdn.pydata.org/bokeh/release/bokeh-0.12.14.min.css\");\n      Bokeh.embed.inject_css(\"https://cdn.pydata.org/bokeh/release/bokeh-0.12.14.min.css\");\n      console.log(\"Bokeh: injecting CSS: https://cdn.pydata.org/bokeh/release/bokeh-widgets-0.12.14.min.css\");\n      Bokeh.embed.inject_css(\"https://cdn.pydata.org/bokeh/release/bokeh-widgets-0.12.14.min.css\");\n      console.log(\"Bokeh: injecting CSS: https://cdn.pydata.org/bokeh/release/bokeh-tables-0.12.14.min.css\");\n      Bokeh.embed.inject_css(\"https://cdn.pydata.org/bokeh/release/bokeh-tables-0.12.14.min.css\");\n    }\n  ];\n\n  function run_inline_js() {\n    \n    if ((root.Bokeh !== undefined) || (force === true)) {\n      for (var i = 0; i < inline_js.length; i++) {\n        inline_js[i].call(root, root.Bokeh);\n      }if (force === true) {\n        display_loaded();\n      }} else if (Date.now() < root._bokeh_timeout) {\n      setTimeout(run_inline_js, 100);\n    } else if (!root._bokeh_failed_load) {\n      console.log(\"Bokeh: BokehJS failed to load within specified timeout.\");\n      root._bokeh_failed_load = true;\n    } else if (force !== true) {\n      var cell = $(document.getElementById(\"50ca2111-b065-4a8c-8fb6-fbf5b387de81\")).parents('.cell').data().cell;\n      cell.output_area.append_execute_result(NB_LOAD_WARNING)\n    }\n\n  }\n\n  if (root._bokeh_is_loading === 0) {\n    console.log(\"Bokeh: BokehJS loaded, going straight to plotting\");\n    run_inline_js();\n  } else {\n    load_libs(js_urls, function() {\n      console.log(\"Bokeh: BokehJS plotting callback run at\", now());\n      run_inline_js();\n    });\n  }\n}(window));"
     },
     "metadata": {},
     "output_type": "display_data"
    }
   ],
   "source": [
    "from bokeh.io import push_notebook, show, output_notebook\n",
    "from bokeh.layouts import row\n",
    "from bokeh.plotting import figure\n",
    "output_notebook()"
   ]
  },
  {
   "cell_type": "code",
   "execution_count": 3,
   "metadata": {},
   "outputs": [],
   "source": [
    "opts = dict(plot_width=250, plot_height=250, min_border=0)"
   ]
  },
  {
   "cell_type": "code",
   "execution_count": 4,
   "metadata": {},
   "outputs": [
    {
     "data": {
      "text/html": [
       "\n",
       "<div class=\"bk-root\">\n",
       "    <div class=\"bk-plotdiv\" id=\"af0663c3-cf8d-4a04-bb9f-301122a83e8c\"></div>\n",
       "</div>"
      ]
     },
     "metadata": {},
     "output_type": "display_data"
    },
    {
     "data": {
      "application/javascript": [
       "(function(root) {\n",
       "  function embed_document(root) {\n",
       "    \n",
       "  var docs_json = {\"0510f4fd-fd02-4925-a8da-e8654bf00850\":{\"roots\":{\"references\":[{\"attributes\":{\"callback\":null,\"column_names\":[\"x\",\"y\"],\"data\":{\"x\":[1,2,3],\"y\":[4,5,6]}},\"id\":\"656bd11d-31f2-4096-b919-28b0f2f7ada0\",\"type\":\"ColumnDataSource\"},{\"attributes\":{},\"id\":\"ea49a25d-4589-46c5-9ca6-3753ab796051\",\"type\":\"LinearScale\"},{\"attributes\":{\"below\":[{\"id\":\"c8f4bcd2-9e0e-4ed6-b8d1-e196300f78d6\",\"type\":\"LinearAxis\"}],\"left\":[{\"id\":\"d58f9560-6fae-4f08-ba54-2099089f5304\",\"type\":\"LinearAxis\"}],\"min_border\":0,\"plot_height\":250,\"plot_width\":250,\"renderers\":[{\"id\":\"c8f4bcd2-9e0e-4ed6-b8d1-e196300f78d6\",\"type\":\"LinearAxis\"},{\"id\":\"0caf6408-80cc-4531-a210-979d7391a62d\",\"type\":\"Grid\"},{\"id\":\"d58f9560-6fae-4f08-ba54-2099089f5304\",\"type\":\"LinearAxis\"},{\"id\":\"6c19c221-1a3b-421a-92de-3d2ff8313ee1\",\"type\":\"Grid\"},{\"id\":\"f387132f-ba12-415b-ae3b-7c46addea7e7\",\"type\":\"BoxAnnotation\"},{\"id\":\"5f5ff9bb-055c-4f00-a8ca-9421737cb045\",\"type\":\"GlyphRenderer\"}],\"title\":{\"id\":\"f3793ca2-c347-4695-bd92-528a97799437\",\"type\":\"Title\"},\"toolbar\":{\"id\":\"c57a25fe-6516-468a-a935-3f13a471cf76\",\"type\":\"Toolbar\"},\"x_range\":{\"id\":\"a433f4d5-1c98-4113-863a-739fd3b6b697\",\"type\":\"DataRange1d\"},\"x_scale\":{\"id\":\"6f1aa207-cb49-48f5-bb0a-c1bb604869d1\",\"type\":\"LinearScale\"},\"y_range\":{\"id\":\"89e8b14a-e898-4adc-b875-3ca87454a122\",\"type\":\"DataRange1d\"},\"y_scale\":{\"id\":\"7a13304a-3866-44cc-a97e-ff82bfd4e4ce\",\"type\":\"LinearScale\"}},\"id\":\"7a83a0bc-5153-4404-b1a4-261081bec2a5\",\"subtype\":\"Figure\",\"type\":\"Plot\"},{\"attributes\":{\"fill_alpha\":{\"value\":0.1},\"fill_color\":{\"value\":\"#1f77b4\"},\"line_alpha\":{\"value\":0.1},\"line_color\":{\"value\":\"#1f77b4\"},\"size\":{\"units\":\"screen\",\"value\":20},\"x\":{\"field\":\"x\"},\"y\":{\"field\":\"y\"}},\"id\":\"6f951f97-d3e6-4a64-a097-b857e631fcae\",\"type\":\"Circle\"},{\"attributes\":{\"plot\":{\"id\":\"ab252d87-8b7f-4822-a6d0-525f4cd0d15c\",\"subtype\":\"Figure\",\"type\":\"Plot\"},\"ticker\":{\"id\":\"d86519f2-7abe-4915-9fc6-072b97812b88\",\"type\":\"BasicTicker\"}},\"id\":\"fe361aed-7e9e-48ac-ab8e-03c1d7bf3a44\",\"type\":\"Grid\"},{\"attributes\":{\"active_drag\":\"auto\",\"active_inspect\":\"auto\",\"active_scroll\":\"auto\",\"active_tap\":\"auto\",\"tools\":[{\"id\":\"20685c6d-6c7f-4e34-9cd3-3d60468b5f01\",\"type\":\"PanTool\"},{\"id\":\"d1c03c06-ae20-48f2-be9c-e09660e4a8fb\",\"type\":\"WheelZoomTool\"},{\"id\":\"9d772f58-050c-4643-8cd1-7762506dd0eb\",\"type\":\"BoxZoomTool\"},{\"id\":\"1680022d-feab-44a5-8c98-ae95f3be7f33\",\"type\":\"SaveTool\"},{\"id\":\"a62523bc-c45e-45d1-9cdc-c08d1bb646e4\",\"type\":\"ResetTool\"},{\"id\":\"c6c7bc63-6621-441c-8a43-5f58c48bb07f\",\"type\":\"HelpTool\"}]},\"id\":\"c57a25fe-6516-468a-a935-3f13a471cf76\",\"type\":\"Toolbar\"},{\"attributes\":{\"formatter\":{\"id\":\"3efc9d43-690d-4ff2-bf15-bca532baf86e\",\"type\":\"BasicTickFormatter\"},\"plot\":{\"id\":\"ab252d87-8b7f-4822-a6d0-525f4cd0d15c\",\"subtype\":\"Figure\",\"type\":\"Plot\"},\"ticker\":{\"id\":\"d86519f2-7abe-4915-9fc6-072b97812b88\",\"type\":\"BasicTicker\"}},\"id\":\"86e581ba-3bff-4515-b6bb-e7c8dfc20461\",\"type\":\"LinearAxis\"},{\"attributes\":{\"callback\":null},\"id\":\"a433f4d5-1c98-4113-863a-739fd3b6b697\",\"type\":\"DataRange1d\"},{\"attributes\":{},\"id\":\"d86519f2-7abe-4915-9fc6-072b97812b88\",\"type\":\"BasicTicker\"},{\"attributes\":{\"fill_alpha\":{\"value\":0.1},\"fill_color\":{\"value\":\"#1f77b4\"},\"line_alpha\":{\"value\":0.1},\"line_color\":{\"value\":\"#1f77b4\"},\"size\":{\"units\":\"screen\",\"value\":20},\"x\":{\"field\":\"x\"},\"y\":{\"field\":\"y\"}},\"id\":\"2e2645f9-d051-4fa0-9131-8f6022a8a52f\",\"type\":\"Circle\"},{\"attributes\":{\"formatter\":{\"id\":\"7969869b-efba-4558-ba5d-d77be6902e87\",\"type\":\"BasicTickFormatter\"},\"plot\":{\"id\":\"ab252d87-8b7f-4822-a6d0-525f4cd0d15c\",\"subtype\":\"Figure\",\"type\":\"Plot\"},\"ticker\":{\"id\":\"365bdd5b-07ee-4578-b7c4-dd864ba85e14\",\"type\":\"BasicTicker\"}},\"id\":\"74c8f532-819f-4456-a5c6-844b4cace9e8\",\"type\":\"LinearAxis\"},{\"attributes\":{\"callback\":null},\"id\":\"89e8b14a-e898-4adc-b875-3ca87454a122\",\"type\":\"DataRange1d\"},{\"attributes\":{},\"id\":\"365bdd5b-07ee-4578-b7c4-dd864ba85e14\",\"type\":\"BasicTicker\"},{\"attributes\":{},\"id\":\"6f1aa207-cb49-48f5-bb0a-c1bb604869d1\",\"type\":\"LinearScale\"},{\"attributes\":{\"dimension\":1,\"plot\":{\"id\":\"ab252d87-8b7f-4822-a6d0-525f4cd0d15c\",\"subtype\":\"Figure\",\"type\":\"Plot\"},\"ticker\":{\"id\":\"365bdd5b-07ee-4578-b7c4-dd864ba85e14\",\"type\":\"BasicTicker\"}},\"id\":\"da2efe66-cbdb-49b7-835b-6913a6909b79\",\"type\":\"Grid\"},{\"attributes\":{},\"id\":\"7a13304a-3866-44cc-a97e-ff82bfd4e4ce\",\"type\":\"LinearScale\"},{\"attributes\":{\"data_source\":{\"id\":\"05c5bbd3-8939-40f6-8103-3b0a8b93220f\",\"type\":\"ColumnDataSource\"},\"glyph\":{\"id\":\"4e4e043c-cbe3-4d02-846a-bbd32f15380f\",\"type\":\"Circle\"},\"hover_glyph\":null,\"muted_glyph\":null,\"nonselection_glyph\":{\"id\":\"6f951f97-d3e6-4a64-a097-b857e631fcae\",\"type\":\"Circle\"},\"selection_glyph\":null,\"view\":{\"id\":\"b88692b9-929c-4e09-a516-a0fe38014e47\",\"type\":\"CDSView\"}},\"id\":\"d3e2eafe-bf6d-4902-b577-8518739789ca\",\"type\":\"GlyphRenderer\"},{\"attributes\":{},\"id\":\"412cd4dc-438e-420e-8c21-4d3ac43d93fd\",\"type\":\"BasicTickFormatter\"},{\"attributes\":{\"fill_color\":{\"value\":\"#1f77b4\"},\"line_color\":{\"value\":\"#1f77b4\"},\"size\":{\"units\":\"screen\",\"value\":20},\"x\":{\"field\":\"x\"},\"y\":{\"field\":\"y\"}},\"id\":\"4e4e043c-cbe3-4d02-846a-bbd32f15380f\",\"type\":\"Circle\"},{\"attributes\":{\"formatter\":{\"id\":\"412cd4dc-438e-420e-8c21-4d3ac43d93fd\",\"type\":\"BasicTickFormatter\"},\"plot\":{\"id\":\"7a83a0bc-5153-4404-b1a4-261081bec2a5\",\"subtype\":\"Figure\",\"type\":\"Plot\"},\"ticker\":{\"id\":\"363dcd87-db93-4a51-ab05-5e7dd70160be\",\"type\":\"BasicTicker\"}},\"id\":\"c8f4bcd2-9e0e-4ed6-b8d1-e196300f78d6\",\"type\":\"LinearAxis\"},{\"attributes\":{},\"id\":\"363dcd87-db93-4a51-ab05-5e7dd70160be\",\"type\":\"BasicTicker\"},{\"attributes\":{\"bottom_units\":\"screen\",\"fill_alpha\":{\"value\":0.5},\"fill_color\":{\"value\":\"lightgrey\"},\"left_units\":\"screen\",\"level\":\"overlay\",\"line_alpha\":{\"value\":1.0},\"line_color\":{\"value\":\"black\"},\"line_dash\":[4,4],\"line_width\":{\"value\":2},\"plot\":null,\"render_mode\":\"css\",\"right_units\":\"screen\",\"top_units\":\"screen\"},\"id\":\"6475f14e-516e-47de-882f-1b4b3940b612\",\"type\":\"BoxAnnotation\"},{\"attributes\":{\"plot\":{\"id\":\"7a83a0bc-5153-4404-b1a4-261081bec2a5\",\"subtype\":\"Figure\",\"type\":\"Plot\"},\"ticker\":{\"id\":\"363dcd87-db93-4a51-ab05-5e7dd70160be\",\"type\":\"BasicTicker\"}},\"id\":\"0caf6408-80cc-4531-a210-979d7391a62d\",\"type\":\"Grid\"},{\"attributes\":{\"fill_color\":{\"value\":\"#1f77b4\"},\"line_color\":{\"value\":\"#1f77b4\"},\"size\":{\"units\":\"screen\",\"value\":20},\"x\":{\"field\":\"x\"},\"y\":{\"field\":\"y\"}},\"id\":\"35f5c33a-b24f-41fb-97f1-b23046fe7721\",\"type\":\"Circle\"},{\"attributes\":{\"source\":{\"id\":\"656bd11d-31f2-4096-b919-28b0f2f7ada0\",\"type\":\"ColumnDataSource\"}},\"id\":\"9f21a946-ee79-4f90-aca1-7a2dfb56da3d\",\"type\":\"CDSView\"},{\"attributes\":{},\"id\":\"e632ebef-7b7e-451a-979c-98fc053183b5\",\"type\":\"PanTool\"},{\"attributes\":{\"formatter\":{\"id\":\"2af6b48f-17be-4abc-a82c-f9394ba093cb\",\"type\":\"BasicTickFormatter\"},\"plot\":{\"id\":\"7a83a0bc-5153-4404-b1a4-261081bec2a5\",\"subtype\":\"Figure\",\"type\":\"Plot\"},\"ticker\":{\"id\":\"d862a05f-abcb-4594-8507-d4b2751681bb\",\"type\":\"BasicTicker\"}},\"id\":\"d58f9560-6fae-4f08-ba54-2099089f5304\",\"type\":\"LinearAxis\"},{\"attributes\":{\"source\":{\"id\":\"05c5bbd3-8939-40f6-8103-3b0a8b93220f\",\"type\":\"ColumnDataSource\"}},\"id\":\"b88692b9-929c-4e09-a516-a0fe38014e47\",\"type\":\"CDSView\"},{\"attributes\":{},\"id\":\"d862a05f-abcb-4594-8507-d4b2751681bb\",\"type\":\"BasicTicker\"},{\"attributes\":{},\"id\":\"34d16049-5421-42c7-b750-78d538a9984f\",\"type\":\"WheelZoomTool\"},{\"attributes\":{\"dimension\":1,\"plot\":{\"id\":\"7a83a0bc-5153-4404-b1a4-261081bec2a5\",\"subtype\":\"Figure\",\"type\":\"Plot\"},\"ticker\":{\"id\":\"d862a05f-abcb-4594-8507-d4b2751681bb\",\"type\":\"BasicTicker\"}},\"id\":\"6c19c221-1a3b-421a-92de-3d2ff8313ee1\",\"type\":\"Grid\"},{\"attributes\":{\"overlay\":{\"id\":\"6475f14e-516e-47de-882f-1b4b3940b612\",\"type\":\"BoxAnnotation\"}},\"id\":\"82743c7d-cf45-4b0a-807b-6b46a5551135\",\"type\":\"BoxZoomTool\"},{\"attributes\":{\"bottom_units\":\"screen\",\"fill_alpha\":{\"value\":0.5},\"fill_color\":{\"value\":\"lightgrey\"},\"left_units\":\"screen\",\"level\":\"overlay\",\"line_alpha\":{\"value\":1.0},\"line_color\":{\"value\":\"black\"},\"line_dash\":[4,4],\"line_width\":{\"value\":2},\"plot\":null,\"render_mode\":\"css\",\"right_units\":\"screen\",\"top_units\":\"screen\"},\"id\":\"f387132f-ba12-415b-ae3b-7c46addea7e7\",\"type\":\"BoxAnnotation\"},{\"attributes\":{},\"id\":\"6ff57174-6fdf-4caf-83c0-5a76fa50e7e7\",\"type\":\"SaveTool\"},{\"attributes\":{},\"id\":\"746f799d-b8ea-4140-9888-bdbe8e2d6c3c\",\"type\":\"ResetTool\"},{\"attributes\":{},\"id\":\"a1ed012b-84b6-4fcc-b626-7bfc48ff84ac\",\"type\":\"HelpTool\"},{\"attributes\":{\"below\":[{\"id\":\"86e581ba-3bff-4515-b6bb-e7c8dfc20461\",\"type\":\"LinearAxis\"}],\"left\":[{\"id\":\"74c8f532-819f-4456-a5c6-844b4cace9e8\",\"type\":\"LinearAxis\"}],\"min_border\":0,\"plot_height\":250,\"plot_width\":250,\"renderers\":[{\"id\":\"86e581ba-3bff-4515-b6bb-e7c8dfc20461\",\"type\":\"LinearAxis\"},{\"id\":\"fe361aed-7e9e-48ac-ab8e-03c1d7bf3a44\",\"type\":\"Grid\"},{\"id\":\"74c8f532-819f-4456-a5c6-844b4cace9e8\",\"type\":\"LinearAxis\"},{\"id\":\"da2efe66-cbdb-49b7-835b-6913a6909b79\",\"type\":\"Grid\"},{\"id\":\"6475f14e-516e-47de-882f-1b4b3940b612\",\"type\":\"BoxAnnotation\"},{\"id\":\"d3e2eafe-bf6d-4902-b577-8518739789ca\",\"type\":\"GlyphRenderer\"}],\"title\":{\"id\":\"9c9bdd3b-7ac7-4afa-a1f0-e59f8688e854\",\"type\":\"Title\"},\"toolbar\":{\"id\":\"53a6c6de-c569-464a-8002-4ef5be395c65\",\"type\":\"Toolbar\"},\"x_range\":{\"id\":\"b078fd99-0375-4b61-834e-fc98957b89c1\",\"type\":\"DataRange1d\"},\"x_scale\":{\"id\":\"020be2da-0396-440f-a80d-c78912021c22\",\"type\":\"LinearScale\"},\"y_range\":{\"id\":\"ad54423d-4e23-4102-b562-05263d5773eb\",\"type\":\"DataRange1d\"},\"y_scale\":{\"id\":\"ea49a25d-4589-46c5-9ca6-3753ab796051\",\"type\":\"LinearScale\"}},\"id\":\"ab252d87-8b7f-4822-a6d0-525f4cd0d15c\",\"subtype\":\"Figure\",\"type\":\"Plot\"},{\"attributes\":{},\"id\":\"7969869b-efba-4558-ba5d-d77be6902e87\",\"type\":\"BasicTickFormatter\"},{\"attributes\":{},\"id\":\"20685c6d-6c7f-4e34-9cd3-3d60468b5f01\",\"type\":\"PanTool\"},{\"attributes\":{},\"id\":\"3efc9d43-690d-4ff2-bf15-bca532baf86e\",\"type\":\"BasicTickFormatter\"},{\"attributes\":{\"plot\":null,\"text\":\"\"},\"id\":\"9c9bdd3b-7ac7-4afa-a1f0-e59f8688e854\",\"type\":\"Title\"},{\"attributes\":{},\"id\":\"d1c03c06-ae20-48f2-be9c-e09660e4a8fb\",\"type\":\"WheelZoomTool\"},{\"attributes\":{\"overlay\":{\"id\":\"f387132f-ba12-415b-ae3b-7c46addea7e7\",\"type\":\"BoxAnnotation\"}},\"id\":\"9d772f58-050c-4643-8cd1-7762506dd0eb\",\"type\":\"BoxZoomTool\"},{\"attributes\":{\"plot\":null,\"text\":\"\"},\"id\":\"f3793ca2-c347-4695-bd92-528a97799437\",\"type\":\"Title\"},{\"attributes\":{},\"id\":\"1680022d-feab-44a5-8c98-ae95f3be7f33\",\"type\":\"SaveTool\"},{\"attributes\":{},\"id\":\"a62523bc-c45e-45d1-9cdc-c08d1bb646e4\",\"type\":\"ResetTool\"},{\"attributes\":{},\"id\":\"c6c7bc63-6621-441c-8a43-5f58c48bb07f\",\"type\":\"HelpTool\"},{\"attributes\":{\"children\":[{\"id\":\"7a83a0bc-5153-4404-b1a4-261081bec2a5\",\"subtype\":\"Figure\",\"type\":\"Plot\"},{\"id\":\"ab252d87-8b7f-4822-a6d0-525f4cd0d15c\",\"subtype\":\"Figure\",\"type\":\"Plot\"}]},\"id\":\"36f6dfcf-454a-437b-86ed-f8045b5910da\",\"type\":\"Row\"},{\"attributes\":{},\"id\":\"2af6b48f-17be-4abc-a82c-f9394ba093cb\",\"type\":\"BasicTickFormatter\"},{\"attributes\":{\"active_drag\":\"auto\",\"active_inspect\":\"auto\",\"active_scroll\":\"auto\",\"active_tap\":\"auto\",\"tools\":[{\"id\":\"e632ebef-7b7e-451a-979c-98fc053183b5\",\"type\":\"PanTool\"},{\"id\":\"34d16049-5421-42c7-b750-78d538a9984f\",\"type\":\"WheelZoomTool\"},{\"id\":\"82743c7d-cf45-4b0a-807b-6b46a5551135\",\"type\":\"BoxZoomTool\"},{\"id\":\"6ff57174-6fdf-4caf-83c0-5a76fa50e7e7\",\"type\":\"SaveTool\"},{\"id\":\"746f799d-b8ea-4140-9888-bdbe8e2d6c3c\",\"type\":\"ResetTool\"},{\"id\":\"a1ed012b-84b6-4fcc-b626-7bfc48ff84ac\",\"type\":\"HelpTool\"}]},\"id\":\"53a6c6de-c569-464a-8002-4ef5be395c65\",\"type\":\"Toolbar\"},{\"attributes\":{},\"id\":\"020be2da-0396-440f-a80d-c78912021c22\",\"type\":\"LinearScale\"},{\"attributes\":{\"callback\":null,\"column_names\":[\"x\",\"y\"],\"data\":{\"x\":[1,2,3],\"y\":[4,5,6]}},\"id\":\"05c5bbd3-8939-40f6-8103-3b0a8b93220f\",\"type\":\"ColumnDataSource\"},{\"attributes\":{\"callback\":null},\"id\":\"ad54423d-4e23-4102-b562-05263d5773eb\",\"type\":\"DataRange1d\"},{\"attributes\":{\"callback\":null},\"id\":\"b078fd99-0375-4b61-834e-fc98957b89c1\",\"type\":\"DataRange1d\"},{\"attributes\":{\"data_source\":{\"id\":\"656bd11d-31f2-4096-b919-28b0f2f7ada0\",\"type\":\"ColumnDataSource\"},\"glyph\":{\"id\":\"35f5c33a-b24f-41fb-97f1-b23046fe7721\",\"type\":\"Circle\"},\"hover_glyph\":null,\"muted_glyph\":null,\"nonselection_glyph\":{\"id\":\"2e2645f9-d051-4fa0-9131-8f6022a8a52f\",\"type\":\"Circle\"},\"selection_glyph\":null,\"view\":{\"id\":\"9f21a946-ee79-4f90-aca1-7a2dfb56da3d\",\"type\":\"CDSView\"}},\"id\":\"5f5ff9bb-055c-4f00-a8ca-9421737cb045\",\"type\":\"GlyphRenderer\"}],\"root_ids\":[\"36f6dfcf-454a-437b-86ed-f8045b5910da\"]},\"title\":\"Bokeh Application\",\"version\":\"0.12.14\"}};\n",
       "  var render_items = [{\"docid\":\"0510f4fd-fd02-4925-a8da-e8654bf00850\",\"elementid\":\"af0663c3-cf8d-4a04-bb9f-301122a83e8c\",\"modelid\":\"36f6dfcf-454a-437b-86ed-f8045b5910da\",\"notebook_comms_target\":\"698142d6-bba1-4772-8e6c-8b52408fb518\"}];\n",
       "  root.Bokeh.embed.embed_items_notebook(docs_json, render_items);\n",
       "\n",
       "  }\n",
       "  if (root.Bokeh !== undefined) {\n",
       "    embed_document(root);\n",
       "  } else {\n",
       "    var attempts = 0;\n",
       "    var timer = setInterval(function(root) {\n",
       "      if (root.Bokeh !== undefined) {\n",
       "        embed_document(root);\n",
       "        clearInterval(timer);\n",
       "      }\n",
       "      attempts++;\n",
       "      if (attempts > 100) {\n",
       "        console.log(\"Bokeh: ERROR: Unable to run BokehJS code because BokehJS library is missing\")\n",
       "        clearInterval(timer);\n",
       "      }\n",
       "    }, 10, root)\n",
       "  }\n",
       "})(window);"
      ],
      "application/vnd.bokehjs_exec.v0+json": ""
     },
     "metadata": {
      "application/vnd.bokehjs_exec.v0+json": {
       "id": "36f6dfcf-454a-437b-86ed-f8045b5910da"
      }
     },
     "output_type": "display_data"
    }
   ],
   "source": [
    "p1 = figure(**opts)\n",
    "r1 = p1.circle([1,2,3], [4,5,6], size=20)\n",
    "\n",
    "p2 = figure(**opts)\n",
    "r2 = p2.circle([1,2,3], [4,5,6], size=20)\n",
    "\n",
    "# get a handle to update the shown cell with\n",
    "t = show(row(p1, p2), notebook_handle=True)"
   ]
  },
  {
   "cell_type": "code",
   "execution_count": 5,
   "metadata": {},
   "outputs": [
    {
     "data": {
      "text/html": [
       "<p><code>&lt;Bokeh Notebook handle for <strong>In[4]</strong>&gt;</code></p>"
      ],
      "text/plain": [
       "<bokeh.io.notebook.CommsHandle at 0x7f7f5aade898>"
      ]
     },
     "execution_count": 5,
     "metadata": {},
     "output_type": "execute_result"
    }
   ],
   "source": [
    "# the comms handle repr show what cell it can be used to update\n",
    "t"
   ]
  },
  {
   "cell_type": "code",
   "execution_count": 6,
   "metadata": {},
   "outputs": [],
   "source": [
    "# this will update the left plot circle color with an explicit handle\n",
    "r1.glyph.fill_color = \"white\"\n",
    "push_notebook(handle=t)"
   ]
  },
  {
   "cell_type": "code",
   "execution_count": 7,
   "metadata": {},
   "outputs": [],
   "source": [
    "# and this will update the right plot circle color because it was in the last shown cell\n",
    "r2.glyph.fill_color = \"pink\"\n",
    "push_notebook()"
   ]
  },
  {
   "cell_type": "code",
   "execution_count": 8,
   "metadata": {},
   "outputs": [
    {
     "data": {
      "text/html": [
       "\n",
       "<div class=\"bk-root\">\n",
       "    <div class=\"bk-plotdiv\" id=\"8aa960fd-e5d2-4210-8a68-dfe207d28e6e\"></div>\n",
       "</div>"
      ]
     },
     "metadata": {},
     "output_type": "display_data"
    },
    {
     "data": {
      "application/javascript": [
       "(function(root) {\n",
       "  function embed_document(root) {\n",
       "    \n",
       "  var docs_json = {\"c63e98de-8f66-4646-b21a-5c1ff36f530c\":{\"roots\":{\"references\":[{\"attributes\":{},\"id\":\"39e19068-97d0-43d4-8768-b89e3bca1c32\",\"type\":\"WheelZoomTool\"},{\"attributes\":{\"active_drag\":\"auto\",\"active_inspect\":\"auto\",\"active_scroll\":\"auto\",\"active_tap\":\"auto\",\"tools\":[{\"id\":\"ccf3354b-d168-4e0b-9e99-60616702e0df\",\"type\":\"PanTool\"},{\"id\":\"39e19068-97d0-43d4-8768-b89e3bca1c32\",\"type\":\"WheelZoomTool\"},{\"id\":\"354bbb9c-54ef-48eb-b5f8-5106c95309e4\",\"type\":\"BoxZoomTool\"},{\"id\":\"26a4415c-ad42-45e3-995d-17b040e0aaba\",\"type\":\"SaveTool\"},{\"id\":\"912e3156-76e3-4062-82e3-e0e1f2006106\",\"type\":\"ResetTool\"},{\"id\":\"e029995e-0922-4ffd-ac0d-810393890eb3\",\"type\":\"HelpTool\"}]},\"id\":\"35ad6c0f-285e-4fab-a0e6-9ccabf1592f1\",\"type\":\"Toolbar\"},{\"attributes\":{\"overlay\":{\"id\":\"dc61cf95-354e-4ad6-add5-aedd9a9d3d71\",\"type\":\"BoxAnnotation\"}},\"id\":\"354bbb9c-54ef-48eb-b5f8-5106c95309e4\",\"type\":\"BoxZoomTool\"},{\"attributes\":{\"callback\":null},\"id\":\"d3b6d7da-47d2-4679-8bb7-9f709838578c\",\"type\":\"DataRange1d\"},{\"attributes\":{},\"id\":\"26a4415c-ad42-45e3-995d-17b040e0aaba\",\"type\":\"SaveTool\"},{\"attributes\":{\"fill_color\":{\"value\":\"#1f77b4\"},\"line_color\":{\"value\":\"#1f77b4\"},\"size\":{\"units\":\"screen\",\"value\":20},\"x\":{\"field\":\"x\"},\"y\":{\"field\":\"y\"}},\"id\":\"ae470df3-0f1f-467a-9e4e-7f41076d9412\",\"type\":\"Circle\"},{\"attributes\":{},\"id\":\"912e3156-76e3-4062-82e3-e0e1f2006106\",\"type\":\"ResetTool\"},{\"attributes\":{\"callback\":null},\"id\":\"ace6c1a5-e6fd-4fe1-a2d1-9eab3feb2ee6\",\"type\":\"DataRange1d\"},{\"attributes\":{},\"id\":\"e029995e-0922-4ffd-ac0d-810393890eb3\",\"type\":\"HelpTool\"},{\"attributes\":{},\"id\":\"d69566d0-17f3-4976-bbf5-2cb7faedd28f\",\"type\":\"LinearScale\"},{\"attributes\":{},\"id\":\"73f243d1-f321-4434-a763-3138cb485b90\",\"type\":\"LinearScale\"},{\"attributes\":{\"plot\":null,\"text\":\"\"},\"id\":\"ee6b48b9-5d63-4187-988b-ea44c263ac8c\",\"type\":\"Title\"},{\"attributes\":{\"plot\":{\"id\":\"e68e866a-9b9c-48e0-843a-3c0881f63ee3\",\"subtype\":\"Figure\",\"type\":\"Plot\"},\"ticker\":{\"id\":\"7c44333c-63d6-43d4-9232-fd028da7759f\",\"type\":\"BasicTicker\"}},\"id\":\"672e069f-db3a-499c-9efe-3976ee09ccd6\",\"type\":\"Grid\"},{\"attributes\":{},\"id\":\"70709cdd-b5d7-47e9-a2fe-1aa0fa6b9de2\",\"type\":\"BasicTickFormatter\"},{\"attributes\":{\"formatter\":{\"id\":\"dab677d9-44ff-4407-ad29-f6117d52730b\",\"type\":\"BasicTickFormatter\"},\"plot\":{\"id\":\"e68e866a-9b9c-48e0-843a-3c0881f63ee3\",\"subtype\":\"Figure\",\"type\":\"Plot\"},\"ticker\":{\"id\":\"7c44333c-63d6-43d4-9232-fd028da7759f\",\"type\":\"BasicTicker\"}},\"id\":\"98baa585-9525-42f4-b991-2ef2a8e14c81\",\"type\":\"LinearAxis\"},{\"attributes\":{},\"id\":\"7c44333c-63d6-43d4-9232-fd028da7759f\",\"type\":\"BasicTicker\"},{\"attributes\":{\"callback\":null,\"column_names\":[\"x\",\"y\"],\"data\":{\"x\":[1,2,3],\"y\":[4,5,6]}},\"id\":\"9d11f7d5-7701-46b7-983e-74a7e3293109\",\"type\":\"ColumnDataSource\"},{\"attributes\":{\"formatter\":{\"id\":\"70709cdd-b5d7-47e9-a2fe-1aa0fa6b9de2\",\"type\":\"BasicTickFormatter\"},\"plot\":{\"id\":\"e68e866a-9b9c-48e0-843a-3c0881f63ee3\",\"subtype\":\"Figure\",\"type\":\"Plot\"},\"ticker\":{\"id\":\"2f4adc1c-d796-41f3-85b8-f77f9cab0b60\",\"type\":\"BasicTicker\"}},\"id\":\"4b0b85f8-afb7-40e0-b08f-c033bdf89088\",\"type\":\"LinearAxis\"},{\"attributes\":{},\"id\":\"2f4adc1c-d796-41f3-85b8-f77f9cab0b60\",\"type\":\"BasicTicker\"},{\"attributes\":{\"dimension\":1,\"plot\":{\"id\":\"e68e866a-9b9c-48e0-843a-3c0881f63ee3\",\"subtype\":\"Figure\",\"type\":\"Plot\"},\"ticker\":{\"id\":\"2f4adc1c-d796-41f3-85b8-f77f9cab0b60\",\"type\":\"BasicTicker\"}},\"id\":\"3ef58d00-32c3-4a98-8303-25968b271ade\",\"type\":\"Grid\"},{\"attributes\":{\"source\":{\"id\":\"9d11f7d5-7701-46b7-983e-74a7e3293109\",\"type\":\"ColumnDataSource\"}},\"id\":\"d0fd3155-b3f7-4494-96e3-2b842dea5e47\",\"type\":\"CDSView\"},{\"attributes\":{\"fill_alpha\":{\"value\":0.1},\"fill_color\":{\"value\":\"#1f77b4\"},\"line_alpha\":{\"value\":0.1},\"line_color\":{\"value\":\"#1f77b4\"},\"size\":{\"units\":\"screen\",\"value\":20},\"x\":{\"field\":\"x\"},\"y\":{\"field\":\"y\"}},\"id\":\"62be545d-082d-473d-b407-51ed772951c4\",\"type\":\"Circle\"},{\"attributes\":{},\"id\":\"dab677d9-44ff-4407-ad29-f6117d52730b\",\"type\":\"BasicTickFormatter\"},{\"attributes\":{\"bottom_units\":\"screen\",\"fill_alpha\":{\"value\":0.5},\"fill_color\":{\"value\":\"lightgrey\"},\"left_units\":\"screen\",\"level\":\"overlay\",\"line_alpha\":{\"value\":1.0},\"line_color\":{\"value\":\"black\"},\"line_dash\":[4,4],\"line_width\":{\"value\":2},\"plot\":null,\"render_mode\":\"css\",\"right_units\":\"screen\",\"top_units\":\"screen\"},\"id\":\"dc61cf95-354e-4ad6-add5-aedd9a9d3d71\",\"type\":\"BoxAnnotation\"},{\"attributes\":{\"data_source\":{\"id\":\"9d11f7d5-7701-46b7-983e-74a7e3293109\",\"type\":\"ColumnDataSource\"},\"glyph\":{\"id\":\"ae470df3-0f1f-467a-9e4e-7f41076d9412\",\"type\":\"Circle\"},\"hover_glyph\":null,\"muted_glyph\":null,\"nonselection_glyph\":{\"id\":\"62be545d-082d-473d-b407-51ed772951c4\",\"type\":\"Circle\"},\"selection_glyph\":null,\"view\":{\"id\":\"d0fd3155-b3f7-4494-96e3-2b842dea5e47\",\"type\":\"CDSView\"}},\"id\":\"e52b6418-1ae9-44b4-ba87-56679b9863f2\",\"type\":\"GlyphRenderer\"},{\"attributes\":{},\"id\":\"ccf3354b-d168-4e0b-9e99-60616702e0df\",\"type\":\"PanTool\"},{\"attributes\":{\"below\":[{\"id\":\"98baa585-9525-42f4-b991-2ef2a8e14c81\",\"type\":\"LinearAxis\"}],\"left\":[{\"id\":\"4b0b85f8-afb7-40e0-b08f-c033bdf89088\",\"type\":\"LinearAxis\"}],\"min_border\":0,\"plot_height\":250,\"plot_width\":250,\"renderers\":[{\"id\":\"98baa585-9525-42f4-b991-2ef2a8e14c81\",\"type\":\"LinearAxis\"},{\"id\":\"672e069f-db3a-499c-9efe-3976ee09ccd6\",\"type\":\"Grid\"},{\"id\":\"4b0b85f8-afb7-40e0-b08f-c033bdf89088\",\"type\":\"LinearAxis\"},{\"id\":\"3ef58d00-32c3-4a98-8303-25968b271ade\",\"type\":\"Grid\"},{\"id\":\"dc61cf95-354e-4ad6-add5-aedd9a9d3d71\",\"type\":\"BoxAnnotation\"},{\"id\":\"e52b6418-1ae9-44b4-ba87-56679b9863f2\",\"type\":\"GlyphRenderer\"}],\"title\":{\"id\":\"ee6b48b9-5d63-4187-988b-ea44c263ac8c\",\"type\":\"Title\"},\"toolbar\":{\"id\":\"35ad6c0f-285e-4fab-a0e6-9ccabf1592f1\",\"type\":\"Toolbar\"},\"x_range\":{\"id\":\"d3b6d7da-47d2-4679-8bb7-9f709838578c\",\"type\":\"DataRange1d\"},\"x_scale\":{\"id\":\"d69566d0-17f3-4976-bbf5-2cb7faedd28f\",\"type\":\"LinearScale\"},\"y_range\":{\"id\":\"ace6c1a5-e6fd-4fe1-a2d1-9eab3feb2ee6\",\"type\":\"DataRange1d\"},\"y_scale\":{\"id\":\"73f243d1-f321-4434-a763-3138cb485b90\",\"type\":\"LinearScale\"}},\"id\":\"e68e866a-9b9c-48e0-843a-3c0881f63ee3\",\"subtype\":\"Figure\",\"type\":\"Plot\"}],\"root_ids\":[\"e68e866a-9b9c-48e0-843a-3c0881f63ee3\"]},\"title\":\"Bokeh Application\",\"version\":\"0.12.14\"}};\n",
       "  var render_items = [{\"docid\":\"c63e98de-8f66-4646-b21a-5c1ff36f530c\",\"elementid\":\"8aa960fd-e5d2-4210-8a68-dfe207d28e6e\",\"modelid\":\"e68e866a-9b9c-48e0-843a-3c0881f63ee3\",\"notebook_comms_target\":\"a305e557-f3ac-42e5-a7c1-41a02aa02490\"}];\n",
       "  root.Bokeh.embed.embed_items_notebook(docs_json, render_items);\n",
       "\n",
       "  }\n",
       "  if (root.Bokeh !== undefined) {\n",
       "    embed_document(root);\n",
       "  } else {\n",
       "    var attempts = 0;\n",
       "    var timer = setInterval(function(root) {\n",
       "      if (root.Bokeh !== undefined) {\n",
       "        embed_document(root);\n",
       "        clearInterval(timer);\n",
       "      }\n",
       "      attempts++;\n",
       "      if (attempts > 100) {\n",
       "        console.log(\"Bokeh: ERROR: Unable to run BokehJS code because BokehJS library is missing\")\n",
       "        clearInterval(timer);\n",
       "      }\n",
       "    }, 10, root)\n",
       "  }\n",
       "})(window);"
      ],
      "application/vnd.bokehjs_exec.v0+json": ""
     },
     "metadata": {
      "application/vnd.bokehjs_exec.v0+json": {
       "id": "e68e866a-9b9c-48e0-843a-3c0881f63ee3"
      }
     },
     "output_type": "display_data"
    }
   ],
   "source": [
    "p3 = figure(**opts)\n",
    "r3 = p3.circle([1,2,3], [4,5,6], size=20)\n",
    "\n",
    "# get a handle to update the shown cell with\n",
    "t2 = show(p3, notebook_handle=True)"
   ]
  },
  {
   "cell_type": "code",
   "execution_count": 9,
   "metadata": {},
   "outputs": [
    {
     "data": {
      "text/html": [
       "<p><code>&lt;Bokeh Notebook handle for <strong>In[8]</strong>&gt;</code></p>"
      ],
      "text/plain": [
       "<bokeh.io.notebook.CommsHandle at 0x7f7f5ab03e80>"
      ]
     },
     "execution_count": 9,
     "metadata": {},
     "output_type": "execute_result"
    }
   ],
   "source": [
    "# show which cell t2 handles\n",
    "t2"
   ]
  },
  {
   "cell_type": "code",
   "execution_count": 10,
   "metadata": {},
   "outputs": [],
   "source": [
    "# this updates the immediately previous cell with an explicit handle\n",
    "r3.glyph.fill_color = \"orange\"\n",
    "push_notebook(handle=t2)"
   ]
  },
  {
   "cell_type": "code",
   "execution_count": 11,
   "metadata": {},
   "outputs": [],
   "source": [
    "# this updates the left plot at the top with an explicit handle\n",
    "r1.glyph.fill_color = \"orange\"\n",
    "push_notebook(handle=t)"
   ]
  },
  {
   "cell_type": "code",
   "execution_count": 12,
   "metadata": {},
   "outputs": [
    {
     "data": {
      "text/html": [
       "\n",
       "<div class=\"bk-root\">\n",
       "    <div class=\"bk-plotdiv\" id=\"f381d782-dc87-43f9-a0bc-d6a4ebe67813\"></div>\n",
       "</div>"
      ]
     },
     "metadata": {},
     "output_type": "display_data"
    },
    {
     "data": {
      "application/javascript": [
       "(function(root) {\n",
       "  function embed_document(root) {\n",
       "    \n",
       "  var docs_json = {\"8d42f6cc-ca22-43fa-86b0-d5fbdaea17b5\":{\"roots\":{\"references\":[{\"attributes\":{},\"id\":\"746f799d-b8ea-4140-9888-bdbe8e2d6c3c\",\"type\":\"ResetTool\"},{\"attributes\":{},\"id\":\"a1ed012b-84b6-4fcc-b626-7bfc48ff84ac\",\"type\":\"HelpTool\"},{\"attributes\":{},\"id\":\"ea49a25d-4589-46c5-9ca6-3753ab796051\",\"type\":\"LinearScale\"},{\"attributes\":{\"below\":[{\"id\":\"86e581ba-3bff-4515-b6bb-e7c8dfc20461\",\"type\":\"LinearAxis\"}],\"left\":[{\"id\":\"74c8f532-819f-4456-a5c6-844b4cace9e8\",\"type\":\"LinearAxis\"}],\"min_border\":0,\"plot_height\":250,\"plot_width\":250,\"renderers\":[{\"id\":\"86e581ba-3bff-4515-b6bb-e7c8dfc20461\",\"type\":\"LinearAxis\"},{\"id\":\"fe361aed-7e9e-48ac-ab8e-03c1d7bf3a44\",\"type\":\"Grid\"},{\"id\":\"74c8f532-819f-4456-a5c6-844b4cace9e8\",\"type\":\"LinearAxis\"},{\"id\":\"da2efe66-cbdb-49b7-835b-6913a6909b79\",\"type\":\"Grid\"},{\"id\":\"6475f14e-516e-47de-882f-1b4b3940b612\",\"type\":\"BoxAnnotation\"},{\"id\":\"d3e2eafe-bf6d-4902-b577-8518739789ca\",\"type\":\"GlyphRenderer\"}],\"title\":{\"id\":\"9c9bdd3b-7ac7-4afa-a1f0-e59f8688e854\",\"type\":\"Title\"},\"toolbar\":{\"id\":\"53a6c6de-c569-464a-8002-4ef5be395c65\",\"type\":\"Toolbar\"},\"x_range\":{\"id\":\"b078fd99-0375-4b61-834e-fc98957b89c1\",\"type\":\"DataRange1d\"},\"x_scale\":{\"id\":\"020be2da-0396-440f-a80d-c78912021c22\",\"type\":\"LinearScale\"},\"y_range\":{\"id\":\"ad54423d-4e23-4102-b562-05263d5773eb\",\"type\":\"DataRange1d\"},\"y_scale\":{\"id\":\"ea49a25d-4589-46c5-9ca6-3753ab796051\",\"type\":\"LinearScale\"}},\"id\":\"ab252d87-8b7f-4822-a6d0-525f4cd0d15c\",\"subtype\":\"Figure\",\"type\":\"Plot\"},{\"attributes\":{},\"id\":\"7969869b-efba-4558-ba5d-d77be6902e87\",\"type\":\"BasicTickFormatter\"},{\"attributes\":{\"fill_alpha\":{\"value\":0.1},\"fill_color\":{\"value\":\"#1f77b4\"},\"line_alpha\":{\"value\":0.1},\"line_color\":{\"value\":\"#1f77b4\"},\"size\":{\"units\":\"screen\",\"value\":20},\"x\":{\"field\":\"x\"},\"y\":{\"field\":\"y\"}},\"id\":\"6f951f97-d3e6-4a64-a097-b857e631fcae\",\"type\":\"Circle\"},{\"attributes\":{},\"id\":\"3efc9d43-690d-4ff2-bf15-bca532baf86e\",\"type\":\"BasicTickFormatter\"},{\"attributes\":{\"plot\":{\"id\":\"ab252d87-8b7f-4822-a6d0-525f4cd0d15c\",\"subtype\":\"Figure\",\"type\":\"Plot\"},\"ticker\":{\"id\":\"d86519f2-7abe-4915-9fc6-072b97812b88\",\"type\":\"BasicTicker\"}},\"id\":\"fe361aed-7e9e-48ac-ab8e-03c1d7bf3a44\",\"type\":\"Grid\"},{\"attributes\":{\"plot\":null,\"text\":\"\"},\"id\":\"9c9bdd3b-7ac7-4afa-a1f0-e59f8688e854\",\"type\":\"Title\"},{\"attributes\":{\"formatter\":{\"id\":\"3efc9d43-690d-4ff2-bf15-bca532baf86e\",\"type\":\"BasicTickFormatter\"},\"plot\":{\"id\":\"ab252d87-8b7f-4822-a6d0-525f4cd0d15c\",\"subtype\":\"Figure\",\"type\":\"Plot\"},\"ticker\":{\"id\":\"d86519f2-7abe-4915-9fc6-072b97812b88\",\"type\":\"BasicTicker\"}},\"id\":\"86e581ba-3bff-4515-b6bb-e7c8dfc20461\",\"type\":\"LinearAxis\"},{\"attributes\":{},\"id\":\"d86519f2-7abe-4915-9fc6-072b97812b88\",\"type\":\"BasicTicker\"},{\"attributes\":{\"formatter\":{\"id\":\"7969869b-efba-4558-ba5d-d77be6902e87\",\"type\":\"BasicTickFormatter\"},\"plot\":{\"id\":\"ab252d87-8b7f-4822-a6d0-525f4cd0d15c\",\"subtype\":\"Figure\",\"type\":\"Plot\"},\"ticker\":{\"id\":\"365bdd5b-07ee-4578-b7c4-dd864ba85e14\",\"type\":\"BasicTicker\"}},\"id\":\"74c8f532-819f-4456-a5c6-844b4cace9e8\",\"type\":\"LinearAxis\"},{\"attributes\":{},\"id\":\"365bdd5b-07ee-4578-b7c4-dd864ba85e14\",\"type\":\"BasicTicker\"},{\"attributes\":{\"dimension\":1,\"plot\":{\"id\":\"ab252d87-8b7f-4822-a6d0-525f4cd0d15c\",\"subtype\":\"Figure\",\"type\":\"Plot\"},\"ticker\":{\"id\":\"365bdd5b-07ee-4578-b7c4-dd864ba85e14\",\"type\":\"BasicTicker\"}},\"id\":\"da2efe66-cbdb-49b7-835b-6913a6909b79\",\"type\":\"Grid\"},{\"attributes\":{\"callback\":null},\"id\":\"b078fd99-0375-4b61-834e-fc98957b89c1\",\"type\":\"DataRange1d\"},{\"attributes\":{\"data_source\":{\"id\":\"05c5bbd3-8939-40f6-8103-3b0a8b93220f\",\"type\":\"ColumnDataSource\"},\"glyph\":{\"id\":\"4e4e043c-cbe3-4d02-846a-bbd32f15380f\",\"type\":\"Circle\"},\"hover_glyph\":null,\"muted_glyph\":null,\"nonselection_glyph\":{\"id\":\"6f951f97-d3e6-4a64-a097-b857e631fcae\",\"type\":\"Circle\"},\"selection_glyph\":null,\"view\":{\"id\":\"b88692b9-929c-4e09-a516-a0fe38014e47\",\"type\":\"CDSView\"}},\"id\":\"d3e2eafe-bf6d-4902-b577-8518739789ca\",\"type\":\"GlyphRenderer\"},{\"attributes\":{\"fill_color\":{\"value\":\"pink\"},\"line_color\":{\"value\":\"#1f77b4\"},\"size\":{\"units\":\"screen\",\"value\":20},\"x\":{\"field\":\"x\"},\"y\":{\"field\":\"y\"}},\"id\":\"4e4e043c-cbe3-4d02-846a-bbd32f15380f\",\"type\":\"Circle\"},{\"attributes\":{\"bottom_units\":\"screen\",\"fill_alpha\":{\"value\":0.5},\"fill_color\":{\"value\":\"lightgrey\"},\"left_units\":\"screen\",\"level\":\"overlay\",\"line_alpha\":{\"value\":1.0},\"line_color\":{\"value\":\"black\"},\"line_dash\":[4,4],\"line_width\":{\"value\":2},\"plot\":null,\"render_mode\":\"css\",\"right_units\":\"screen\",\"top_units\":\"screen\"},\"id\":\"6475f14e-516e-47de-882f-1b4b3940b612\",\"type\":\"BoxAnnotation\"},{\"attributes\":{},\"id\":\"e632ebef-7b7e-451a-979c-98fc053183b5\",\"type\":\"PanTool\"},{\"attributes\":{\"active_drag\":\"auto\",\"active_inspect\":\"auto\",\"active_scroll\":\"auto\",\"active_tap\":\"auto\",\"tools\":[{\"id\":\"e632ebef-7b7e-451a-979c-98fc053183b5\",\"type\":\"PanTool\"},{\"id\":\"34d16049-5421-42c7-b750-78d538a9984f\",\"type\":\"WheelZoomTool\"},{\"id\":\"82743c7d-cf45-4b0a-807b-6b46a5551135\",\"type\":\"BoxZoomTool\"},{\"id\":\"6ff57174-6fdf-4caf-83c0-5a76fa50e7e7\",\"type\":\"SaveTool\"},{\"id\":\"746f799d-b8ea-4140-9888-bdbe8e2d6c3c\",\"type\":\"ResetTool\"},{\"id\":\"a1ed012b-84b6-4fcc-b626-7bfc48ff84ac\",\"type\":\"HelpTool\"}]},\"id\":\"53a6c6de-c569-464a-8002-4ef5be395c65\",\"type\":\"Toolbar\"},{\"attributes\":{\"source\":{\"id\":\"05c5bbd3-8939-40f6-8103-3b0a8b93220f\",\"type\":\"ColumnDataSource\"}},\"id\":\"b88692b9-929c-4e09-a516-a0fe38014e47\",\"type\":\"CDSView\"},{\"attributes\":{\"callback\":null,\"column_names\":[\"x\",\"y\"],\"data\":{\"x\":[1,2,3],\"y\":[4,5,6]}},\"id\":\"05c5bbd3-8939-40f6-8103-3b0a8b93220f\",\"type\":\"ColumnDataSource\"},{\"attributes\":{},\"id\":\"34d16049-5421-42c7-b750-78d538a9984f\",\"type\":\"WheelZoomTool\"},{\"attributes\":{\"callback\":null},\"id\":\"ad54423d-4e23-4102-b562-05263d5773eb\",\"type\":\"DataRange1d\"},{\"attributes\":{\"overlay\":{\"id\":\"6475f14e-516e-47de-882f-1b4b3940b612\",\"type\":\"BoxAnnotation\"}},\"id\":\"82743c7d-cf45-4b0a-807b-6b46a5551135\",\"type\":\"BoxZoomTool\"},{\"attributes\":{},\"id\":\"6ff57174-6fdf-4caf-83c0-5a76fa50e7e7\",\"type\":\"SaveTool\"},{\"attributes\":{},\"id\":\"020be2da-0396-440f-a80d-c78912021c22\",\"type\":\"LinearScale\"}],\"root_ids\":[\"ab252d87-8b7f-4822-a6d0-525f4cd0d15c\"]},\"title\":\"Bokeh Application\",\"version\":\"0.12.14\"}};\n",
       "  var render_items = [{\"docid\":\"8d42f6cc-ca22-43fa-86b0-d5fbdaea17b5\",\"elementid\":\"f381d782-dc87-43f9-a0bc-d6a4ebe67813\",\"modelid\":\"ab252d87-8b7f-4822-a6d0-525f4cd0d15c\",\"notebook_comms_target\":\"c97fd843-3660-4acd-837c-82915c0e608e\"}];\n",
       "  root.Bokeh.embed.embed_items_notebook(docs_json, render_items);\n",
       "\n",
       "  }\n",
       "  if (root.Bokeh !== undefined) {\n",
       "    embed_document(root);\n",
       "  } else {\n",
       "    var attempts = 0;\n",
       "    var timer = setInterval(function(root) {\n",
       "      if (root.Bokeh !== undefined) {\n",
       "        embed_document(root);\n",
       "        clearInterval(timer);\n",
       "      }\n",
       "      attempts++;\n",
       "      if (attempts > 100) {\n",
       "        console.log(\"Bokeh: ERROR: Unable to run BokehJS code because BokehJS library is missing\")\n",
       "        clearInterval(timer);\n",
       "      }\n",
       "    }, 10, root)\n",
       "  }\n",
       "})(window);"
      ],
      "application/vnd.bokehjs_exec.v0+json": ""
     },
     "metadata": {
      "application/vnd.bokehjs_exec.v0+json": {
       "id": "ab252d87-8b7f-4822-a6d0-525f4cd0d15c"
      }
     },
     "output_type": "display_data"
    }
   ],
   "source": [
    "# get a handle to update the shown cell with\n",
    "t3 = show(p2, notebook_handle=True)"
   ]
  },
  {
   "cell_type": "code",
   "execution_count": 13,
   "metadata": {},
   "outputs": [],
   "source": [
    "# this will update the immediately previous plot circle color because it was in the last shown cell\n",
    "r2.glyph.fill_color = \"red\"\n",
    "push_notebook()"
   ]
  },
  {
   "cell_type": "code",
   "execution_count": 14,
   "metadata": {},
   "outputs": [],
   "source": [
    "# this will update the immediately previous plot circle color with an explicit handle\n",
    "r2.glyph.fill_color = \"blue\"\n",
    "push_notebook(handle=t3)\n"
   ]
  },
  {
   "cell_type": "code",
   "execution_count": null,
   "metadata": {},
   "outputs": [],
   "source": []
  }
 ],
 "metadata": {
  "kernelspec": {
   "display_name": "Python 3",
   "language": "python",
   "name": "python3"
  },
  "language_info": {
   "codemirror_mode": {
    "name": "ipython",
    "version": 3
   },
   "file_extension": ".py",
   "mimetype": "text/x-python",
   "name": "python",
   "nbconvert_exporter": "python",
   "pygments_lexer": "ipython3",
   "version": "3.6.4"
  }
 },
 "nbformat": 4,
 "nbformat_minor": 2
}
