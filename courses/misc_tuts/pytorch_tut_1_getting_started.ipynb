{
 "cells": [
  {
   "cell_type": "code",
   "execution_count": 1,
   "metadata": {},
   "outputs": [],
   "source": [
    "#http://pytorch.org/tutorials/beginner/blitz/tensor_tutorial.html#sphx-glr-beginner-blitz-tensor-tutorial-py"
   ]
  },
  {
   "cell_type": "code",
   "execution_count": 2,
   "metadata": {},
   "outputs": [],
   "source": [
    "from __future__ import print_function\n",
    "import torch"
   ]
  },
  {
   "cell_type": "code",
   "execution_count": 3,
   "metadata": {},
   "outputs": [
    {
     "data": {
      "text/plain": [
       "'0.3.1.post3'"
      ]
     },
     "execution_count": 3,
     "metadata": {},
     "output_type": "execute_result"
    }
   ],
   "source": [
    "torch.__version__"
   ]
  },
  {
   "cell_type": "code",
   "execution_count": 4,
   "metadata": {
    "scrolled": true
   },
   "outputs": [
    {
     "name": "stdout",
     "output_type": "stream",
     "text": [
      "x: <class 'torch.FloatTensor'> torch.Size([5, 3])\n",
      "\n",
      "-3.7552e-33  4.5619e-41 -3.7552e-33\n",
      " 4.5619e-41 -3.8196e+30  3.0914e-41\n",
      "-3.8196e+30  3.0914e-41  8.2653e-39\n",
      " 1.6751e-37  4.0041e-38  2.6803e-36\n",
      " 6.9651e-37  9.3038e-41  1.0721e-35\n",
      "[torch.FloatTensor of size 5x3]\n",
      "\n"
     ]
    }
   ],
   "source": [
    "x = torch.Tensor(5, 3)\n",
    "print (\"x:\", type(x), x.shape)\n",
    "print(x)"
   ]
  },
  {
   "cell_type": "code",
   "execution_count": 5,
   "metadata": {},
   "outputs": [],
   "source": [
    "#http://pytorch.org/docs/master/tensors.html\n",
    "#NB: tensors inherit methods not listed on this page. use with caution due to likely unintended behaviour!!!"
   ]
  },
  {
   "cell_type": "code",
   "execution_count": 6,
   "metadata": {},
   "outputs": [
    {
     "name": "stdout",
     "output_type": "stream",
     "text": [
      "x: <class 'torch.FloatTensor'> torch.Size([5, 3]) torch.Size([5, 3])\n",
      "\n",
      " 0.1347  0.1506  0.9644\n",
      " 0.0476  0.3367  0.3546\n",
      " 0.8726  0.2863  0.8126\n",
      " 0.9853  0.4001  0.3594\n",
      " 0.6964  0.0364  0.6553\n",
      "[torch.FloatTensor of size 5x3]\n",
      "\n"
     ]
    }
   ],
   "source": [
    "x = torch.rand(5, 3)\n",
    "print (\"x:\", type(x), x.shape, x.size())\n",
    "print(x)"
   ]
  },
  {
   "cell_type": "code",
   "execution_count": 7,
   "metadata": {},
   "outputs": [
    {
     "name": "stdout",
     "output_type": "stream",
     "text": [
      "x[0,0]: 0.1347305178642273 \n",
      "\n",
      "top row : x[0,:]:\n",
      " \n",
      " 0.1347\n",
      " 0.1506\n",
      " 0.9644\n",
      "[torch.FloatTensor of size 3]\n",
      " \n",
      "\n",
      "left most column : x[:,0]:\n",
      " \n",
      " 0.1347\n",
      " 0.0476\n",
      " 0.8726\n",
      " 0.9853\n",
      " 0.6964\n",
      "[torch.FloatTensor of size 5]\n",
      "\n"
     ]
    }
   ],
   "source": [
    "print(\"x[0,0]:\", x[0,0], \"\\n\")\n",
    "print(\"top row : x[0,:]:\\n\", x[0,:], \"\\n\")\n",
    "print(\"left most column : x[:,0]:\\n\", x[:,0])"
   ]
  },
  {
   "cell_type": "code",
   "execution_count": 8,
   "metadata": {},
   "outputs": [
    {
     "name": "stdout",
     "output_type": "stream",
     "text": [
      "<class 'torch.FloatTensor'> torch.Size([5, 3])\n",
      "\n",
      " 0.3517  0.4966  1.7599\n",
      " 0.0509  1.2677  1.1128\n",
      " 1.6050  1.2776  1.3832\n",
      " 1.9245  1.3232  0.5761\n",
      " 1.3914  0.8560  0.6581\n",
      "[torch.FloatTensor of size 5x3]\n",
      "\n"
     ]
    }
   ],
   "source": [
    "y = torch.rand(5, 3)\n",
    "print (type(y), y.shape)\n",
    "print(x + y)"
   ]
  },
  {
   "cell_type": "code",
   "execution_count": 9,
   "metadata": {},
   "outputs": [
    {
     "name": "stdout",
     "output_type": "stream",
     "text": [
      "<class 'torch.FloatTensor'> torch.Size([5, 3])\n",
      "\n",
      " 0.3517  0.4966  1.7599\n",
      " 0.0509  1.2677  1.1128\n",
      " 1.6050  1.2776  1.3832\n",
      " 1.9245  1.3232  0.5761\n",
      " 1.3914  0.8560  0.6581\n",
      "[torch.FloatTensor of size 5x3]\n",
      "\n"
     ]
    }
   ],
   "source": [
    "result = torch.add(x, y)\n",
    "print (type(result), result.shape)\n",
    "print(result)\n"
   ]
  },
  {
   "cell_type": "code",
   "execution_count": 10,
   "metadata": {},
   "outputs": [
    {
     "name": "stdout",
     "output_type": "stream",
     "text": [
      "<class 'torch.FloatTensor'> torch.Size([5, 3])\n",
      "\n",
      " 0.3517  0.4966  1.7599\n",
      " 0.0509  1.2677  1.1128\n",
      " 1.6050  1.2776  1.3832\n",
      " 1.9245  1.3232  0.5761\n",
      " 1.3914  0.8560  0.6581\n",
      "[torch.FloatTensor of size 5x3]\n",
      "\n"
     ]
    }
   ],
   "source": [
    "result2 = torch.Tensor(5, 3)\n",
    "torch.add(x, y, out=result2)\n",
    "print(type(result2), result2.size())\n",
    "print(result2)"
   ]
  },
  {
   "cell_type": "code",
   "execution_count": 12,
   "metadata": {},
   "outputs": [
    {
     "name": "stdout",
     "output_type": "stream",
     "text": [
      "y:\n",
      " \n",
      " 0.2170  0.3460  0.7955\n",
      " 0.0033  0.9310  0.7582\n",
      " 0.7325  0.9913  0.5706\n",
      " 0.9392  0.9230  0.2167\n",
      " 0.6950  0.8196  0.0028\n",
      "[torch.FloatTensor of size 5x3]\n",
      "\n",
      "x:\n",
      " \n",
      " 0.1347  0.1506  0.9644\n",
      " 0.0476  0.3367  0.3546\n",
      " 0.8726  0.2863  0.8126\n",
      " 0.9853  0.4001  0.3594\n",
      " 0.6964  0.0364  0.6553\n",
      "[torch.FloatTensor of size 5x3]\n",
      "\n",
      "after addition, y:\n",
      " \n",
      " 0.3517  0.4966  1.7599\n",
      " 0.0509  1.2677  1.1128\n",
      " 1.6050  1.2776  1.3832\n",
      " 1.9245  1.3232  0.5761\n",
      " 1.3914  0.8560  0.6581\n",
      "[torch.FloatTensor of size 5x3]\n",
      "\n"
     ]
    }
   ],
   "source": [
    "print(\"y:\\n\", y)\n",
    "print(\"x:\\n\", x)\n",
    "# adds x to y\n",
    "y.add_(x) #nb: the add_  mutates y in place. cf torch.add(x, y) (same values result from equivalent methods)\n",
    "print(\"after addition, y:\\n\", y)"
   ]
  },
  {
   "cell_type": "code",
   "execution_count": 13,
   "metadata": {},
   "outputs": [
    {
     "name": "stdout",
     "output_type": "stream",
     "text": [
      "torch.Size([4, 4]) torch.Size([16]) torch.Size([2, 8])\n"
     ]
    }
   ],
   "source": [
    "x = torch.randn(4, 4)\n",
    "y = x.view(16)\n",
    "z = x.view(-1, 8)  # the size -1 is inferred from other dimensions\n",
    "print(x.size(), y.size(), z.size())"
   ]
  },
  {
   "cell_type": "code",
   "execution_count": 14,
   "metadata": {},
   "outputs": [
    {
     "data": {
      "text/plain": [
       "True"
      ]
     },
     "execution_count": 14,
     "metadata": {},
     "output_type": "execute_result"
    }
   ],
   "source": [
    "torch.cuda.is_available()#test if cuda is available"
   ]
  },
  {
   "cell_type": "code",
   "execution_count": 19,
   "metadata": {},
   "outputs": [
    {
     "name": "stdout",
     "output_type": "stream",
     "text": [
      "<class 'torch.cuda.FloatTensor'> torch.Size([4, 4])\n",
      "<class 'torch.cuda.FloatTensor'> torch.Size([4, 4])\n",
      "\n",
      " 0.7492 -0.1830  0.4206 -0.0451\n",
      " 0.8998  1.3866 -0.2858 -1.9158\n",
      "-1.7605 -0.8097  1.7268 -2.0655\n",
      "-0.8035  1.4449 -4.8631  0.0922\n",
      "[torch.cuda.FloatTensor of size 4x4 (GPU 0)]\n",
      "\n"
     ]
    },
    {
     "name": "stderr",
     "output_type": "stream",
     "text": [
      "/home/ec2-user/anaconda3/envs/python3/lib/python3.6/site-packages/torch/tensor.py:305: UserWarning: self and other not broadcastable, but have the same number of elements.  Falling back to deprecated pointwise behavior.\n",
      "  return self.add(other)\n"
     ]
    }
   ],
   "source": [
    "# let us run this cell only if CUDA is available\n",
    "if torch.cuda.is_available():\n",
    "    x = x.cuda()\n",
    "    y = y.cuda()\n",
    "    print (type(x), x.size())\n",
    "    print (type(y), x.size())\n",
    "    print (x + y)"
   ]
  },
  {
   "cell_type": "code",
   "execution_count": null,
   "metadata": {},
   "outputs": [],
   "source": []
  }
 ],
 "metadata": {
  "kernelspec": {
   "display_name": "Python 3",
   "language": "python",
   "name": "python3"
  },
  "language_info": {
   "codemirror_mode": {
    "name": "ipython",
    "version": 3
   },
   "file_extension": ".py",
   "mimetype": "text/x-python",
   "name": "python",
   "nbconvert_exporter": "python",
   "pygments_lexer": "ipython3",
   "version": "3.6.4"
  }
 },
 "nbformat": 4,
 "nbformat_minor": 2
}
