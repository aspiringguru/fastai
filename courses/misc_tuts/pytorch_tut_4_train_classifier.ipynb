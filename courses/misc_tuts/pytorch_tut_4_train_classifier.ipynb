{
 "cells": [
  {
   "cell_type": "code",
   "execution_count": 1,
   "metadata": {},
   "outputs": [],
   "source": [
    "#http://pytorch.org/tutorials/beginner/blitz/cifar10_tutorial.html#sphx-glr-beginner-blitz-cifar10-tutorial-py"
   ]
  },
  {
   "cell_type": "code",
   "execution_count": 2,
   "metadata": {},
   "outputs": [],
   "source": [
    "import torch\n",
    "import torchvision\n",
    "import torchvision.transforms as transforms\n",
    "\n",
    "import time\n",
    "import matplotlib.pyplot as plt\n",
    "%matplotlib inline\n"
   ]
  },
  {
   "cell_type": "code",
   "execution_count": 3,
   "metadata": {},
   "outputs": [
    {
     "name": "stdout",
     "output_type": "stream",
     "text": [
      "Files already downloaded and verified\n",
      "Files already downloaded and verified\n"
     ]
    }
   ],
   "source": [
    "transform = transforms.Compose(\n",
    "    [transforms.ToTensor(),\n",
    "     transforms.Normalize((0.5, 0.5, 0.5), (0.5, 0.5, 0.5))])\n",
    "\n",
    "trainset = torchvision.datasets.CIFAR10(root='./data', train=True,\n",
    "                                        download=True, transform=transform)\n",
    "trainloader = torch.utils.data.DataLoader(trainset, batch_size=6,\n",
    "                                          shuffle=True, num_workers=2)\n",
    "\n",
    "testset = torchvision.datasets.CIFAR10(root='./data', train=False,\n",
    "                                       download=True, transform=transform)\n",
    "testloader = torch.utils.data.DataLoader(testset, batch_size=4,\n",
    "                                         shuffle=False, num_workers=2)\n",
    "\n",
    "classes = ('plane', 'car', 'bird', 'cat',\n",
    "           'deer', 'dog', 'frog', 'horse', 'ship', 'truck')"
   ]
  },
  {
   "cell_type": "code",
   "execution_count": 4,
   "metadata": {},
   "outputs": [
    {
     "name": "stdout",
     "output_type": "stream",
     "text": [
      "labels\n",
      "  car   cat   car  deer   car  ship\n"
     ]
    },
    {
     "data": {
      "image/png": "[encoded data removed]",
      "text/plain": [
       "<Figure size 432x288 with 1 Axes>"
      ]
     },
     "metadata": {},
     "output_type": "display_data"
    }
   ],
   "source": [
    "import matplotlib.pyplot as plt\n",
    "import numpy as np\n",
    "\n",
    "# functions to show an image\n",
    "\n",
    "\n",
    "def imshow(img):\n",
    "    img = img / 2 + 0.5     # unnormalize\n",
    "    npimg = img.numpy()\n",
    "    plt.imshow(np.transpose(npimg, (1, 2, 0)))\n",
    "\n",
    "\n",
    "# get some random training images\n",
    "dataiter = iter(trainloader)\n",
    "images, labels = dataiter.next()\n",
    "\n",
    "# show images\n",
    "imshow(torchvision.utils.make_grid(images))\n",
    "# print labels\n",
    "print (\"labels\")\n",
    "print(' '.join('%5s' % classes[labels[j]] for j in range(6)))"
   ]
  },
  {
   "cell_type": "code",
   "execution_count": 5,
   "metadata": {},
   "outputs": [
    {
     "name": "stdout",
     "output_type": "stream",
     "text": [
      "type(dataiter): <class 'torch.utils.data.dataloader.DataLoaderIter'>\n",
      "images: <class 'torch.FloatTensor'>\n",
      "labels: <class 'torch.LongTensor'>\n"
     ]
    }
   ],
   "source": [
    "print (\"type(dataiter):\", type(dataiter))\n",
    "print (\"images:\", type(images))\n",
    "print (\"labels:\", type(labels))\n"
   ]
  },
  {
   "cell_type": "code",
   "execution_count": 6,
   "metadata": {},
   "outputs": [],
   "source": [
    "from torch.autograd import Variable\n",
    "import torch.nn as nn\n",
    "import torch.nn.functional as F\n"
   ]
  },
  {
   "cell_type": "code",
   "execution_count": 7,
   "metadata": {},
   "outputs": [],
   "source": [
    "class Net(nn.Module):\n",
    "    def __init__(self):\n",
    "        super(Net, self).__init__()\n",
    "        self.conv1 = nn.Conv2d(3, 12, 5)#original values (3, 6, 5)\n",
    "        self.pool = nn.MaxPool2d(2, 2)\n",
    "        self.conv2 = nn.Conv2d(12, 16, 5)#original values (6, 16, 5)\n",
    "        #NB: arg 2 of the first nn.Conv2d, and arg 1 of the second nn.Conv2d – need to be the same value\n",
    "        \n",
    "        self.fc1 = nn.Linear(16 * 5 * 5, 120)\n",
    "        self.fc2 = nn.Linear(120, 84)\n",
    "        self.fc3 = nn.Linear(84, 10)\n",
    "\n",
    "    def forward(self, x):\n",
    "        x = self.pool(F.relu(self.conv1(x)))\n",
    "        x = self.pool(F.relu(self.conv2(x)))\n",
    "        x = x.view(-1, 16 * 5 * 5)\n",
    "        x = F.relu(self.fc1(x))\n",
    "        x = F.relu(self.fc2(x))\n",
    "        x = self.fc3(x)\n",
    "        return x\n",
    "\n",
    "\n",
    "net = Net()"
   ]
  },
  {
   "cell_type": "code",
   "execution_count": 8,
   "metadata": {},
   "outputs": [],
   "source": [
    "import torch.optim as optim\n",
    "\n",
    "criterion = nn.CrossEntropyLoss()\n",
    "optimizer = optim.SGD(net.parameters(), lr=0.001, momentum=0.9)"
   ]
  },
  {
   "cell_type": "code",
   "execution_count": 9,
   "metadata": {},
   "outputs": [
    {
     "name": "stdout",
     "output_type": "stream",
     "text": [
      "[1,  2000] loss: 2.190\n",
      "[1,  4000] loss: 1.801\n",
      "[1,  6000] loss: 1.616\n",
      "[1,  8000] loss: 1.502\n",
      "[2,  2000] loss: 1.405\n",
      "[2,  4000] loss: 1.349\n",
      "[2,  6000] loss: 1.294\n",
      "[2,  8000] loss: 1.266\n",
      "[3,  2000] loss: 1.185\n",
      "[3,  4000] loss: 1.161\n",
      "[3,  6000] loss: 1.145\n",
      "[3,  8000] loss: 1.111\n",
      "[4,  2000] loss: 1.043\n",
      "[4,  4000] loss: 1.032\n",
      "[4,  6000] loss: 1.035\n",
      "[4,  8000] loss: 1.020\n",
      "[5,  2000] loss: 0.947\n",
      "[5,  4000] loss: 0.963\n",
      "[5,  6000] loss: 0.953\n",
      "[5,  8000] loss: 0.961\n",
      "[6,  2000] loss: 0.878\n",
      "[6,  4000] loss: 0.914\n",
      "[6,  6000] loss: 0.891\n",
      "[6,  8000] loss: 0.885\n",
      "[7,  2000] loss: 0.810\n",
      "[7,  4000] loss: 0.823\n",
      "[7,  6000] loss: 0.860\n",
      "[7,  8000] loss: 0.845\n",
      "[8,  2000] loss: 0.769\n",
      "[8,  4000] loss: 0.782\n",
      "[8,  6000] loss: 0.808\n",
      "[8,  8000] loss: 0.814\n",
      "[9,  2000] loss: 0.729\n",
      "[9,  4000] loss: 0.752\n",
      "[9,  6000] loss: 0.773\n",
      "[9,  8000] loss: 0.776\n",
      "[10,  2000] loss: 0.680\n",
      "[10,  4000] loss: 0.717\n",
      "[10,  6000] loss: 0.747\n",
      "[10,  8000] loss: 0.738\n",
      "[11,  2000] loss: 0.650\n",
      "[11,  4000] loss: 0.682\n",
      "[11,  6000] loss: 0.689\n",
      "[11,  8000] loss: 0.709\n",
      "[12,  2000] loss: 0.612\n",
      "[12,  4000] loss: 0.644\n",
      "[12,  6000] loss: 0.689\n",
      "[12,  8000] loss: 0.692\n",
      "[13,  2000] loss: 0.596\n",
      "[13,  4000] loss: 0.633\n",
      "[13,  6000] loss: 0.642\n",
      "[13,  8000] loss: 0.665\n",
      "[14,  2000] loss: 0.555\n",
      "[14,  4000] loss: 0.621\n",
      "[14,  6000] loss: 0.630\n",
      "[14,  8000] loss: 0.640\n",
      "[15,  2000] loss: 0.561\n",
      "[15,  4000] loss: 0.569\n",
      "[15,  6000] loss: 0.607\n",
      "[15,  8000] loss: 0.603\n",
      "[16,  2000] loss: 0.533\n",
      "[16,  4000] loss: 0.550\n",
      "[16,  6000] loss: 0.591\n",
      "[16,  8000] loss: 0.603\n",
      "[17,  2000] loss: 0.499\n",
      "[17,  4000] loss: 0.534\n",
      "[17,  6000] loss: 0.569\n",
      "[17,  8000] loss: 0.586\n",
      "[18,  2000] loss: 0.494\n",
      "[18,  4000] loss: 0.530\n",
      "[18,  6000] loss: 0.554\n",
      "[18,  8000] loss: 0.576\n",
      "[19,  2000] loss: 0.491\n",
      "[19,  4000] loss: 0.523\n",
      "[19,  6000] loss: 0.536\n",
      "[19,  8000] loss: 0.542\n",
      "[20,  2000] loss: 0.454\n",
      "[20,  4000] loss: 0.491\n",
      "[20,  6000] loss: 0.521\n",
      "[20,  8000] loss: 0.539\n",
      "Finished Training\n",
      "--- 854.1981961727142 seconds ---\n",
      "losses: [4379.690722823143, 3601.73791128397, 3231.3554632663727, 3004.7589037418365, 2810.333616554737, 2697.4661528766155, 2587.4575893729925, 2531.972459152341, 2370.723486378789, 2321.2982979416847, 2290.281051926315, 2222.983355551958, 2086.300988640636, 2064.1907669641078, 2070.1642815470695, 2040.2812748774886, 1894.7651378288865, 1925.5984224379063, 1905.4418144226074, 1922.1967152953148, 1756.769043624401, 1828.9185707904398, 1782.4240427725017, 1769.4965001754463, 1619.086320053786, 1645.79356235452, 1719.2811697497964, 1689.8384109931067, 1537.5457719359547, 1564.1968634352088, 1615.0228789960966, 1627.1764517156407, 1457.8806025665253, 1503.8874921295792, 1545.0466874660924, 1552.7665776871145, 1359.5303096408024, 1434.7335060164332, 1493.873317150399, 1476.7952465862036, 1299.8257610891014, 1364.6911570187658, 1378.9125164775178, 1418.1832893816754, 1223.790717439144, 1287.0039145145565, 1377.389266980812, 1384.3629090404138, 1191.6165003590286, 1266.9320314531215, 1284.9232913085725, 1330.7431607856415, 1110.6840173397213, 1241.6516640442424, 1259.2260852346662, 1280.9492172216997, 1121.2955118964892, 1138.920880578924, 1213.1764544888865, 1205.9914507623762, 1066.0983020248823, 1099.2023242085706, 1182.320879901934, 1206.3873522449285, 998.3136797003681, 1068.431213858421, 1137.625687920372, 1171.7368217259645, 988.5666203816363, 1059.4093205907848, 1108.6341026034206, 1151.0941206710413, 981.9188351110497, 1046.499891766347, 1071.8192138108425, 1083.1099472746137, 908.8245394416153, 982.6217283488077, 1042.7141854286601, 1078.8018544435035]\n"
     ]
    }
   ],
   "source": [
    "losses = []\n",
    "start_time = time.time()\n",
    "for epoch in range(20):  # loop over the dataset multiple times\n",
    "\n",
    "    running_loss = 0.0\n",
    "    for i, data in enumerate(trainloader, 0):\n",
    "        # get the inputs\n",
    "        inputs, labels = data\n",
    "\n",
    "        # wrap them in Variable\n",
    "        inputs, labels = Variable(inputs), Variable(labels)\n",
    "\n",
    "        # zero the parameter gradients\n",
    "        optimizer.zero_grad()\n",
    "\n",
    "        # forward + backward + optimize\n",
    "        outputs = net(inputs)\n",
    "        loss = criterion(outputs, labels)\n",
    "        loss.backward()\n",
    "        optimizer.step()\n",
    "\n",
    "        # print statistics\n",
    "        running_loss += loss.data[0]\n",
    "        if i % 2000 == 1999:    # print every 2000 mini-batches\n",
    "            print('[%d, %5d] loss: %.3f' %\n",
    "                  (epoch + 1, i + 1, running_loss / 2000))\n",
    "            losses.append(running_loss)\n",
    "            running_loss = 0.0\n",
    "\n",
    "print('Finished Training')\n",
    "print(\"--- %s seconds ---\" % (time.time() - start_time))\n",
    "#66.24045753479004 seconds\n",
    "#83.98998093605042 seconds\n",
    "print (\"losses:\", losses)"
   ]
  },
  {
   "cell_type": "code",
   "execution_count": 10,
   "metadata": {},
   "outputs": [
    {
     "data": {
      "image/png": "[encoded data removed]",
      "text/plain": [
       "<Figure size 432x288 with 1 Axes>"
      ]
     },
     "metadata": {},
     "output_type": "display_data"
    }
   ],
   "source": [
    "plt.plot(losses)\n",
    "plt.ylabel('losses')\n",
    "plt.show()"
   ]
  },
  {
   "cell_type": "code",
   "execution_count": 11,
   "metadata": {},
   "outputs": [
    {
     "name": "stdout",
     "output_type": "stream",
     "text": [
      "GroundTruth:    cat  ship  ship plane\n"
     ]
    },
    {
     "data": {
      "image/png": "[encoded data removed]",
      "text/plain": [
       "<Figure size 432x288 with 1 Axes>"
      ]
     },
     "metadata": {},
     "output_type": "display_data"
    }
   ],
   "source": [
    "dataiter = iter(testloader)\n",
    "images, labels = dataiter.next()\n",
    "\n",
    "# print images\n",
    "imshow(torchvision.utils.make_grid(images))\n",
    "print('GroundTruth: ', ' '.join('%5s' % classes[labels[j]] for j in range(4)))\n"
   ]
  },
  {
   "cell_type": "code",
   "execution_count": 12,
   "metadata": {},
   "outputs": [],
   "source": [
    "outputs = net(Variable(images))"
   ]
  },
  {
   "cell_type": "code",
   "execution_count": 13,
   "metadata": {},
   "outputs": [
    {
     "name": "stdout",
     "output_type": "stream",
     "text": [
      "Predicted:    cat  ship  ship plane\n"
     ]
    }
   ],
   "source": [
    "_, predicted = torch.max(outputs.data, 1)\n",
    "\n",
    "print('Predicted: ', ' '.join('%5s' % classes[predicted[j]]\n",
    "                              for j in range(4)))\n"
   ]
  },
  {
   "cell_type": "code",
   "execution_count": 14,
   "metadata": {},
   "outputs": [
    {
     "name": "stdout",
     "output_type": "stream",
     "text": [
      "Accuracy of the network on the 10000 test images: 65 %\n",
      "--- 5.357727527618408 seconds ---\n"
     ]
    }
   ],
   "source": [
    "start_time = time.time()\n",
    "correct = 0\n",
    "total = 0\n",
    "for data in testloader:\n",
    "    images, labels = data\n",
    "    outputs = net(Variable(images))\n",
    "    _, predicted = torch.max(outputs.data, 1)\n",
    "    total += labels.size(0)\n",
    "    correct += (predicted == labels).sum()\n",
    "\n",
    "print('Accuracy of the network on the 10000 test images: %d %%' % (\n",
    "    100 * correct / total))\n",
    "#start_time = time.time()\n",
    "print(\"--- %s seconds ---\" % (time.time() - start_time))\n",
    "#4.840656042098999 sec\n",
    "#5.3723766803741455 seconds Accuracy 52%"
   ]
  },
  {
   "cell_type": "code",
   "execution_count": 15,
   "metadata": {},
   "outputs": [],
   "source": [
    "#NB: chance accuracy would be 10% (10 classes to randomly choose from)"
   ]
  },
  {
   "cell_type": "code",
   "execution_count": 16,
   "metadata": {
    "scrolled": true
   },
   "outputs": [
    {
     "name": "stdout",
     "output_type": "stream",
     "text": [
      "Accuracy of plane : 71 %\n",
      "Accuracy of   car : 85 %\n",
      "Accuracy of  bird : 46 %\n",
      "Accuracy of   cat : 47 %\n",
      "Accuracy of  deer : 58 %\n",
      "Accuracy of   dog : 53 %\n",
      "Accuracy of  frog : 77 %\n",
      "Accuracy of horse : 67 %\n",
      "Accuracy of  ship : 73 %\n",
      "Accuracy of truck : 75 %\n",
      "--- 5.400704860687256 seconds ---\n"
     ]
    }
   ],
   "source": [
    "start_time = time.time()\n",
    "class_correct = list(0. for i in range(10))\n",
    "class_total = list(0. for i in range(10))\n",
    "for data in testloader:\n",
    "    images, labels = data\n",
    "    outputs = net(Variable(images))\n",
    "    _, predicted = torch.max(outputs.data, 1)\n",
    "    c = (predicted == labels).squeeze()\n",
    "    for i in range(4):\n",
    "        label = labels[i]\n",
    "        class_correct[label] += c[i]\n",
    "        class_total[label] += 1\n",
    "\n",
    "\n",
    "for i in range(10):\n",
    "    print('Accuracy of %5s : %2d %%' % (\n",
    "        classes[i], 100 * class_correct[i] / class_total[i]))\n",
    "print(\"--- %s seconds ---\" % (time.time() - start_time))\n",
    "# 4.880950212478638 seconds\n",
    "#5.440716028213501 seconds \n"
   ]
  },
  {
   "cell_type": "markdown",
   "metadata": {},
   "source": [
    "Accuracy of plane : 70 %  \n",
    "Accuracy of   car : 49 %  \n",
    "Accuracy of  bird : 54 %  \n",
    "Accuracy of   cat : 16 %  \n",
    "Accuracy of  deer : 36 %   \n",
    "Accuracy of   dog : 43 %  \n",
    "Accuracy of  frog : 63 %  \n",
    "Accuracy of horse : 48 %  \n",
    "Accuracy of  ship : 73 %  \n",
    "Accuracy of truck : 62 %  \n",
    "##---------------------------\n",
    "\n",
    "Accuracy of plane : 74 %  \n",
    "Accuracy of   car : 77 %  \n",
    "Accuracy of  bird : 53 %  \n",
    "Accuracy of   cat : 41 %  \n",
    "Accuracy of  deer : 47 %   \n",
    "Accuracy of   dog : 69 %  \n",
    "Accuracy of  frog : 73 %  \n",
    "Accuracy of horse : 65 %  \n",
    "Accuracy of  ship : 78 %  \n",
    "Accuracy of truck : 70 %  \n",
    "##--- 5.47227144241333 seconds ---  \n",
    "##-------------------------------\n"
   ]
  },
  {
   "cell_type": "code",
   "execution_count": 17,
   "metadata": {},
   "outputs": [
    {
     "data": {
      "text/plain": [
       "Net(\n",
       "  (conv1): Conv2d(3, 12, kernel_size=(5, 5), stride=(1, 1))\n",
       "  (pool): MaxPool2d(kernel_size=(2, 2), stride=(2, 2), dilation=(1, 1), ceil_mode=False)\n",
       "  (conv2): Conv2d(12, 16, kernel_size=(5, 5), stride=(1, 1))\n",
       "  (fc1): Linear(in_features=400, out_features=120, bias=True)\n",
       "  (fc2): Linear(in_features=120, out_features=84, bias=True)\n",
       "  (fc3): Linear(in_features=84, out_features=10, bias=True)\n",
       ")"
      ]
     },
     "execution_count": 17,
     "metadata": {},
     "output_type": "execute_result"
    }
   ],
   "source": [
    "net.cuda()"
   ]
  },
  {
   "cell_type": "code",
   "execution_count": 18,
   "metadata": {},
   "outputs": [
    {
     "data": {
      "text/plain": [
       "True"
      ]
     },
     "execution_count": 18,
     "metadata": {},
     "output_type": "execute_result"
    }
   ],
   "source": [
    "torch.cuda.is_available()"
   ]
  },
  {
   "cell_type": "code",
   "execution_count": null,
   "metadata": {},
   "outputs": [],
   "source": []
  }
 ],
 "metadata": {
  "kernelspec": {
   "display_name": "Python 3",
   "language": "python",
   "name": "python3"
  },
  "language_info": {
   "codemirror_mode": {
    "name": "ipython",
    "version": 3
   },
   "file_extension": ".py",
   "mimetype": "text/x-python",
   "name": "python",
   "nbconvert_exporter": "python",
   "pygments_lexer": "ipython3",
   "version": "3.6.4"
  }
 },
 "nbformat": 4,
 "nbformat_minor": 2
}
